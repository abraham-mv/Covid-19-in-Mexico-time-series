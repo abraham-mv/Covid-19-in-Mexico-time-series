{
 "cells": [
  {
   "cell_type": "code",
   "execution_count": 2,
   "id": "fed8cbdd",
   "metadata": {},
   "outputs": [],
   "source": [
    "import pandas as pd\n",
    "import numpy as np\n",
    "from matplotlib import pyplot as plt\n",
    "%matplotlib inline"
   ]
  },
  {
   "cell_type": "code",
   "execution_count": 3,
   "id": "551453a8",
   "metadata": {},
   "outputs": [],
   "source": [
    "# Configuración warnings\n",
    "# ==============================================================================\n",
    "import warnings\n",
    "warnings.filterwarnings('ignore')"
   ]
  },
  {
   "cell_type": "code",
   "execution_count": 4,
   "id": "1a75333b",
   "metadata": {},
   "outputs": [],
   "source": [
    "from sklearn import metrics"
   ]
  },
  {
   "cell_type": "code",
   "execution_count": 7,
   "id": "3e481acd",
   "metadata": {},
   "outputs": [
    {
     "data": {
      "text/html": [
       "<div>\n",
       "<style scoped>\n",
       "    .dataframe tbody tr th:only-of-type {\n",
       "        vertical-align: middle;\n",
       "    }\n",
       "\n",
       "    .dataframe tbody tr th {\n",
       "        vertical-align: top;\n",
       "    }\n",
       "\n",
       "    .dataframe thead th {\n",
       "        text-align: right;\n",
       "    }\n",
       "</style>\n",
       "<table border=\"1\" class=\"dataframe\">\n",
       "  <thead>\n",
       "    <tr style=\"text-align: right;\">\n",
       "      <th></th>\n",
       "      <th>cve_ent</th>\n",
       "      <th>poblacion</th>\n",
       "      <th>nombre</th>\n",
       "      <th>2020-02-26</th>\n",
       "      <th>2020-02-27</th>\n",
       "      <th>2020-02-28</th>\n",
       "      <th>2020-02-29</th>\n",
       "      <th>2020-03-01</th>\n",
       "      <th>2020-03-02</th>\n",
       "      <th>2020-03-03</th>\n",
       "      <th>...</th>\n",
       "      <th>2021-12-31</th>\n",
       "      <th>2022-01-01</th>\n",
       "      <th>2022-01-02</th>\n",
       "      <th>2022-01-03</th>\n",
       "      <th>2022-01-04</th>\n",
       "      <th>2022-01-05</th>\n",
       "      <th>2022-01-06</th>\n",
       "      <th>2022-01-07</th>\n",
       "      <th>2022-01-08</th>\n",
       "      <th>2022-01-09</th>\n",
       "    </tr>\n",
       "  </thead>\n",
       "  <tbody>\n",
       "    <tr>\n",
       "      <th>0</th>\n",
       "      <td>1</td>\n",
       "      <td>1434635</td>\n",
       "      <td>AGUASCALIENTES</td>\n",
       "      <td>0</td>\n",
       "      <td>0</td>\n",
       "      <td>0</td>\n",
       "      <td>0</td>\n",
       "      <td>0</td>\n",
       "      <td>0</td>\n",
       "      <td>0</td>\n",
       "      <td>...</td>\n",
       "      <td>136</td>\n",
       "      <td>30</td>\n",
       "      <td>58</td>\n",
       "      <td>358</td>\n",
       "      <td>362</td>\n",
       "      <td>333</td>\n",
       "      <td>320</td>\n",
       "      <td>101</td>\n",
       "      <td>6</td>\n",
       "      <td>0</td>\n",
       "    </tr>\n",
       "    <tr>\n",
       "      <th>1</th>\n",
       "      <td>2</td>\n",
       "      <td>3634868</td>\n",
       "      <td>BAJA CALIFORNIA</td>\n",
       "      <td>0</td>\n",
       "      <td>0</td>\n",
       "      <td>0</td>\n",
       "      <td>0</td>\n",
       "      <td>0</td>\n",
       "      <td>0</td>\n",
       "      <td>0</td>\n",
       "      <td>...</td>\n",
       "      <td>427</td>\n",
       "      <td>98</td>\n",
       "      <td>164</td>\n",
       "      <td>813</td>\n",
       "      <td>1021</td>\n",
       "      <td>1269</td>\n",
       "      <td>988</td>\n",
       "      <td>589</td>\n",
       "      <td>141</td>\n",
       "      <td>1</td>\n",
       "    </tr>\n",
       "    <tr>\n",
       "      <th>2</th>\n",
       "      <td>3</td>\n",
       "      <td>804708</td>\n",
       "      <td>BAJA CALIFORNIA SUR</td>\n",
       "      <td>0</td>\n",
       "      <td>0</td>\n",
       "      <td>0</td>\n",
       "      <td>0</td>\n",
       "      <td>0</td>\n",
       "      <td>0</td>\n",
       "      <td>0</td>\n",
       "      <td>...</td>\n",
       "      <td>586</td>\n",
       "      <td>278</td>\n",
       "      <td>289</td>\n",
       "      <td>863</td>\n",
       "      <td>1041</td>\n",
       "      <td>905</td>\n",
       "      <td>765</td>\n",
       "      <td>642</td>\n",
       "      <td>353</td>\n",
       "      <td>31</td>\n",
       "    </tr>\n",
       "    <tr>\n",
       "      <th>3</th>\n",
       "      <td>4</td>\n",
       "      <td>1000617</td>\n",
       "      <td>CAMPECHE</td>\n",
       "      <td>0</td>\n",
       "      <td>0</td>\n",
       "      <td>0</td>\n",
       "      <td>0</td>\n",
       "      <td>0</td>\n",
       "      <td>0</td>\n",
       "      <td>0</td>\n",
       "      <td>...</td>\n",
       "      <td>14</td>\n",
       "      <td>15</td>\n",
       "      <td>28</td>\n",
       "      <td>86</td>\n",
       "      <td>94</td>\n",
       "      <td>110</td>\n",
       "      <td>88</td>\n",
       "      <td>55</td>\n",
       "      <td>8</td>\n",
       "      <td>0</td>\n",
       "    </tr>\n",
       "    <tr>\n",
       "      <th>4</th>\n",
       "      <td>7</td>\n",
       "      <td>5730367</td>\n",
       "      <td>CHIAPAS</td>\n",
       "      <td>0</td>\n",
       "      <td>0</td>\n",
       "      <td>0</td>\n",
       "      <td>1</td>\n",
       "      <td>0</td>\n",
       "      <td>0</td>\n",
       "      <td>0</td>\n",
       "      <td>...</td>\n",
       "      <td>19</td>\n",
       "      <td>4</td>\n",
       "      <td>9</td>\n",
       "      <td>20</td>\n",
       "      <td>24</td>\n",
       "      <td>32</td>\n",
       "      <td>34</td>\n",
       "      <td>17</td>\n",
       "      <td>3</td>\n",
       "      <td>0</td>\n",
       "    </tr>\n",
       "  </tbody>\n",
       "</table>\n",
       "<p>5 rows × 687 columns</p>\n",
       "</div>"
      ],
      "text/plain": [
       "   cve_ent  poblacion               nombre  2020-02-26  2020-02-27  \\\n",
       "0        1    1434635       AGUASCALIENTES           0           0   \n",
       "1        2    3634868      BAJA CALIFORNIA           0           0   \n",
       "2        3     804708  BAJA CALIFORNIA SUR           0           0   \n",
       "3        4    1000617             CAMPECHE           0           0   \n",
       "4        7    5730367              CHIAPAS           0           0   \n",
       "\n",
       "   2020-02-28  2020-02-29  2020-03-01  2020-03-02  2020-03-03  ...  \\\n",
       "0           0           0           0           0           0  ...   \n",
       "1           0           0           0           0           0  ...   \n",
       "2           0           0           0           0           0  ...   \n",
       "3           0           0           0           0           0  ...   \n",
       "4           0           1           0           0           0  ...   \n",
       "\n",
       "   2021-12-31  2022-01-01  2022-01-02  2022-01-03  2022-01-04  2022-01-05  \\\n",
       "0         136          30          58         358         362         333   \n",
       "1         427          98         164         813        1021        1269   \n",
       "2         586         278         289         863        1041         905   \n",
       "3          14          15          28          86          94         110   \n",
       "4          19           4           9          20          24          32   \n",
       "\n",
       "   2022-01-06  2022-01-07  2022-01-08  2022-01-09  \n",
       "0         320         101           6           0  \n",
       "1         988         589         141           1  \n",
       "2         765         642         353          31  \n",
       "3          88          55           8           0  \n",
       "4          34          17           3           0  \n",
       "\n",
       "[5 rows x 687 columns]"
      ]
     },
     "execution_count": 7,
     "metadata": {},
     "output_type": "execute_result"
    }
   ],
   "source": [
    "path =  'C:\\\\Users\\jose_\\Desktop\\covid-19_model'\n",
    "datos_total = pd.read_csv(path + \"\\datos_covid\\Casos_Diarios_Estado_Nacional_Confirmados_20220109.csv\", sep = ',')\n",
    "datos_total.head()"
   ]
  },
  {
   "cell_type": "code",
   "execution_count": 8,
   "id": "f467c03b",
   "metadata": {},
   "outputs": [],
   "source": [
    "names = datos_total[\"nombre\"]\n",
    "datos_total = datos_total.drop([\"cve_ent\",\"poblacion\",\"nombre\"],axis = 1)"
   ]
  },
  {
   "cell_type": "code",
   "execution_count": 9,
   "id": "feed7d27",
   "metadata": {},
   "outputs": [
    {
     "data": {
      "text/html": [
       "<div>\n",
       "<style scoped>\n",
       "    .dataframe tbody tr th:only-of-type {\n",
       "        vertical-align: middle;\n",
       "    }\n",
       "\n",
       "    .dataframe tbody tr th {\n",
       "        vertical-align: top;\n",
       "    }\n",
       "\n",
       "    .dataframe thead th {\n",
       "        text-align: right;\n",
       "    }\n",
       "</style>\n",
       "<table border=\"1\" class=\"dataframe\">\n",
       "  <thead>\n",
       "    <tr style=\"text-align: right;\">\n",
       "      <th></th>\n",
       "      <th>2020-02-26</th>\n",
       "      <th>2020-02-27</th>\n",
       "      <th>2020-02-28</th>\n",
       "      <th>2020-02-29</th>\n",
       "      <th>2020-03-01</th>\n",
       "      <th>2020-03-02</th>\n",
       "      <th>2020-03-03</th>\n",
       "      <th>2020-03-04</th>\n",
       "      <th>2020-03-05</th>\n",
       "      <th>2020-03-06</th>\n",
       "      <th>...</th>\n",
       "      <th>2021-12-31</th>\n",
       "      <th>2022-01-01</th>\n",
       "      <th>2022-01-02</th>\n",
       "      <th>2022-01-03</th>\n",
       "      <th>2022-01-04</th>\n",
       "      <th>2022-01-05</th>\n",
       "      <th>2022-01-06</th>\n",
       "      <th>2022-01-07</th>\n",
       "      <th>2022-01-08</th>\n",
       "      <th>2022-01-09</th>\n",
       "    </tr>\n",
       "  </thead>\n",
       "  <tbody>\n",
       "    <tr>\n",
       "      <th>0</th>\n",
       "      <td>0</td>\n",
       "      <td>0</td>\n",
       "      <td>0</td>\n",
       "      <td>0</td>\n",
       "      <td>0</td>\n",
       "      <td>0</td>\n",
       "      <td>0</td>\n",
       "      <td>0</td>\n",
       "      <td>0</td>\n",
       "      <td>0</td>\n",
       "      <td>...</td>\n",
       "      <td>136</td>\n",
       "      <td>30</td>\n",
       "      <td>58</td>\n",
       "      <td>358</td>\n",
       "      <td>362</td>\n",
       "      <td>333</td>\n",
       "      <td>320</td>\n",
       "      <td>101</td>\n",
       "      <td>6</td>\n",
       "      <td>0</td>\n",
       "    </tr>\n",
       "    <tr>\n",
       "      <th>1</th>\n",
       "      <td>0</td>\n",
       "      <td>0</td>\n",
       "      <td>0</td>\n",
       "      <td>0</td>\n",
       "      <td>0</td>\n",
       "      <td>0</td>\n",
       "      <td>0</td>\n",
       "      <td>0</td>\n",
       "      <td>0</td>\n",
       "      <td>0</td>\n",
       "      <td>...</td>\n",
       "      <td>427</td>\n",
       "      <td>98</td>\n",
       "      <td>164</td>\n",
       "      <td>813</td>\n",
       "      <td>1021</td>\n",
       "      <td>1269</td>\n",
       "      <td>988</td>\n",
       "      <td>589</td>\n",
       "      <td>141</td>\n",
       "      <td>1</td>\n",
       "    </tr>\n",
       "    <tr>\n",
       "      <th>2</th>\n",
       "      <td>0</td>\n",
       "      <td>0</td>\n",
       "      <td>0</td>\n",
       "      <td>0</td>\n",
       "      <td>0</td>\n",
       "      <td>0</td>\n",
       "      <td>0</td>\n",
       "      <td>0</td>\n",
       "      <td>0</td>\n",
       "      <td>0</td>\n",
       "      <td>...</td>\n",
       "      <td>586</td>\n",
       "      <td>278</td>\n",
       "      <td>289</td>\n",
       "      <td>863</td>\n",
       "      <td>1041</td>\n",
       "      <td>905</td>\n",
       "      <td>765</td>\n",
       "      <td>642</td>\n",
       "      <td>353</td>\n",
       "      <td>31</td>\n",
       "    </tr>\n",
       "    <tr>\n",
       "      <th>3</th>\n",
       "      <td>0</td>\n",
       "      <td>0</td>\n",
       "      <td>0</td>\n",
       "      <td>0</td>\n",
       "      <td>0</td>\n",
       "      <td>0</td>\n",
       "      <td>0</td>\n",
       "      <td>0</td>\n",
       "      <td>0</td>\n",
       "      <td>0</td>\n",
       "      <td>...</td>\n",
       "      <td>14</td>\n",
       "      <td>15</td>\n",
       "      <td>28</td>\n",
       "      <td>86</td>\n",
       "      <td>94</td>\n",
       "      <td>110</td>\n",
       "      <td>88</td>\n",
       "      <td>55</td>\n",
       "      <td>8</td>\n",
       "      <td>0</td>\n",
       "    </tr>\n",
       "    <tr>\n",
       "      <th>4</th>\n",
       "      <td>0</td>\n",
       "      <td>0</td>\n",
       "      <td>0</td>\n",
       "      <td>1</td>\n",
       "      <td>0</td>\n",
       "      <td>0</td>\n",
       "      <td>0</td>\n",
       "      <td>0</td>\n",
       "      <td>0</td>\n",
       "      <td>0</td>\n",
       "      <td>...</td>\n",
       "      <td>19</td>\n",
       "      <td>4</td>\n",
       "      <td>9</td>\n",
       "      <td>20</td>\n",
       "      <td>24</td>\n",
       "      <td>32</td>\n",
       "      <td>34</td>\n",
       "      <td>17</td>\n",
       "      <td>3</td>\n",
       "      <td>0</td>\n",
       "    </tr>\n",
       "  </tbody>\n",
       "</table>\n",
       "<p>5 rows × 684 columns</p>\n",
       "</div>"
      ],
      "text/plain": [
       "   2020-02-26  2020-02-27  2020-02-28  2020-02-29  2020-03-01  2020-03-02  \\\n",
       "0           0           0           0           0           0           0   \n",
       "1           0           0           0           0           0           0   \n",
       "2           0           0           0           0           0           0   \n",
       "3           0           0           0           0           0           0   \n",
       "4           0           0           0           1           0           0   \n",
       "\n",
       "   2020-03-03  2020-03-04  2020-03-05  2020-03-06  ...  2021-12-31  \\\n",
       "0           0           0           0           0  ...         136   \n",
       "1           0           0           0           0  ...         427   \n",
       "2           0           0           0           0  ...         586   \n",
       "3           0           0           0           0  ...          14   \n",
       "4           0           0           0           0  ...          19   \n",
       "\n",
       "   2022-01-01  2022-01-02  2022-01-03  2022-01-04  2022-01-05  2022-01-06  \\\n",
       "0          30          58         358         362         333         320   \n",
       "1          98         164         813        1021        1269         988   \n",
       "2         278         289         863        1041         905         765   \n",
       "3          15          28          86          94         110          88   \n",
       "4           4           9          20          24          32          34   \n",
       "\n",
       "   2022-01-07  2022-01-08  2022-01-09  \n",
       "0         101           6           0  \n",
       "1         589         141           1  \n",
       "2         642         353          31  \n",
       "3          55           8           0  \n",
       "4          17           3           0  \n",
       "\n",
       "[5 rows x 684 columns]"
      ]
     },
     "execution_count": 9,
     "metadata": {},
     "output_type": "execute_result"
    }
   ],
   "source": [
    "datos_total.head()"
   ]
  },
  {
   "cell_type": "code",
   "execution_count": 10,
   "id": "45ddd9ec",
   "metadata": {},
   "outputs": [
    {
     "data": {
      "text/plain": [
       "\n",
       "2020-02-26    0\n",
       "2020-02-27    4\n",
       "2020-02-28    2\n",
       "2020-02-29    2\n",
       "2020-03-01    2\n",
       "Name: Casos, dtype: int64"
      ]
     },
     "execution_count": 10,
     "metadata": {},
     "output_type": "execute_result"
    }
   ],
   "source": [
    "casos_nacional = datos_total.iloc[[-1]]\n",
    "casos_nacional = pd.melt(casos_nacional, var_name = \"\", value_name = \"Casos\")\n",
    "casos_nacional[\"\"] = pd.to_datetime(casos_nacional[\"\"])\n",
    "casos_nacional = casos_nacional.set_index(\"\")\n",
    "casos_nacional = casos_nacional[\"Casos\"]\n",
    "casos_nacional.head()"
   ]
  },
  {
   "cell_type": "code",
   "execution_count": 11,
   "id": "0b0c5c45",
   "metadata": {},
   "outputs": [],
   "source": [
    "datos_total = datos_total.set_index(names)\n",
    "datos_total = datos_total.T"
   ]
  },
  {
   "cell_type": "code",
   "execution_count": 12,
   "id": "fce5cb91",
   "metadata": {},
   "outputs": [
    {
     "data": {
      "text/plain": [
       "2020-02-26       0\n",
       "2020-02-27       1\n",
       "2020-02-28       1\n",
       "2020-02-29       1\n",
       "2020-03-01       0\n",
       "              ... \n",
       "2022-01-05    1665\n",
       "2022-01-06    1675\n",
       "2022-01-07    1045\n",
       "2022-01-08     240\n",
       "2022-01-09       1\n",
       "Name: MEXICO, Length: 684, dtype: int64"
      ]
     },
     "execution_count": 12,
     "metadata": {},
     "output_type": "execute_result"
    }
   ],
   "source": [
    "datos_total.iloc[:,14]"
   ]
  },
  {
   "cell_type": "code",
   "execution_count": 13,
   "id": "8f65d50b",
   "metadata": {},
   "outputs": [],
   "source": [
    "datos_sma = pd.DataFrame()\n",
    "for i in range(33):\n",
    "    datos_sma[names[i]] = datos_total.iloc[:,i].rolling(window = 7).mean()[6:-1]"
   ]
  },
  {
   "cell_type": "code",
   "execution_count": 14,
   "id": "55dd3132",
   "metadata": {},
   "outputs": [],
   "source": [
    "datos_sma.index = pd.to_datetime(datos_sma.index)"
   ]
  },
  {
   "cell_type": "code",
   "execution_count": 15,
   "id": "a0ad11a9",
   "metadata": {
    "scrolled": true
   },
   "outputs": [
    {
     "data": {
      "image/png": "[encoded data removed]",
      "text/plain": [
       "<Figure size 432x288 with 1 Axes>"
      ]
     },
     "metadata": {
      "needs_background": "light"
     },
     "output_type": "display_data"
    }
   ],
   "source": [
    "casos_sma = casos_nacional.rolling(window = 7).mean()[6:-1]\n",
    "casos_nacional.plot()\n",
    "casos_sma.plot()\n",
    "plt.show()\n",
    "casos_diff = casos_sma.diff(periods = 1)\n",
    "#casos_diff[0:120].plot()"
   ]
  },
  {
   "cell_type": "code",
   "execution_count": 34,
   "id": "90388069",
   "metadata": {},
   "outputs": [
    {
     "data": {
      "image/png": "[encoded data removed]",
      "text/plain": [
       "<Figure size 720x360 with 1 Axes>"
      ]
     },
     "metadata": {
      "needs_background": "light"
     },
     "output_type": "display_data"
    }
   ],
   "source": [
    "# Create pandas stacked bar chart\n",
    "ax = casos_nacional.plot.bar(stacked=False, figsize=(10,5))\n",
    "\n",
    "# Create list of monthly timestamps by selecting the first weekly timestamp of each\n",
    "# month (in this example, the first Sunday of each month)\n",
    "monthly_timestamps = [timestamp for idx, timestamp in enumerate(casos_nacional.index)\n",
    "                      if (timestamp.month != casos_nacional.index[idx-1].month) | (idx == 0)]\n",
    "\n",
    "# Automatically select appropriate number of timestamps so that x-axis does\n",
    "# not get overcrowded with tick labels\n",
    "step = 1\n",
    "while len(monthly_timestamps[::step]) > 10: # increase number if time range >3 years\n",
    "    step += 1\n",
    "timestamps = monthly_timestamps[::step]\n",
    "\n",
    "# Create tick labels from timestamps\n",
    "labels = [ts.strftime('%b\\n%Y') if ts.year != timestamps[idx-1].year\n",
    "          else ts.strftime('%b') for idx, ts in enumerate(timestamps)]\n",
    "\n",
    "# Set major ticks and labels\n",
    "ax.set_xticks([casos_nacional.index.get_loc(ts) for ts in timestamps])\n",
    "ax.set_xticklabels(labels)\n",
    "\n",
    "# Set minor ticks without labels\n",
    "ax.set_xticks([casos_nacional.index.get_loc(ts) for ts in monthly_timestamps], minor=True)\n",
    "\n",
    "# Rotate and center labels\n",
    "ax.figure.autofmt_xdate(rotation=0, ha='center')"
   ]
  },
  {
   "cell_type": "code",
   "execution_count": 37,
   "id": "a25d1c5c",
   "metadata": {},
   "outputs": [
    {
     "data": {
      "text/html": [
       "<div>\n",
       "<style scoped>\n",
       "    .dataframe tbody tr th:only-of-type {\n",
       "        vertical-align: middle;\n",
       "    }\n",
       "\n",
       "    .dataframe tbody tr th {\n",
       "        vertical-align: top;\n",
       "    }\n",
       "\n",
       "    .dataframe thead th {\n",
       "        text-align: right;\n",
       "    }\n",
       "</style>\n",
       "<table border=\"1\" class=\"dataframe\">\n",
       "  <thead>\n",
       "    <tr style=\"text-align: right;\">\n",
       "      <th></th>\n",
       "      <th>2020-03-17</th>\n",
       "      <th>2020-03-18</th>\n",
       "      <th>2020-03-19</th>\n",
       "      <th>2020-03-20</th>\n",
       "      <th>2020-03-21</th>\n",
       "      <th>2020-03-22</th>\n",
       "      <th>2020-03-23</th>\n",
       "      <th>2020-03-24</th>\n",
       "      <th>2020-03-25</th>\n",
       "      <th>2020-03-26</th>\n",
       "      <th>...</th>\n",
       "      <th>2021-11-01</th>\n",
       "      <th>2021-11-02</th>\n",
       "      <th>2021-11-03</th>\n",
       "      <th>2021-11-04</th>\n",
       "      <th>2021-11-05</th>\n",
       "      <th>2021-11-06</th>\n",
       "      <th>2021-11-07</th>\n",
       "      <th>2021-11-08</th>\n",
       "      <th>2021-11-09</th>\n",
       "      <th>2021-11-10</th>\n",
       "    </tr>\n",
       "  </thead>\n",
       "  <tbody>\n",
       "    <tr>\n",
       "      <th>0</th>\n",
       "      <td>0</td>\n",
       "      <td>0</td>\n",
       "      <td>0</td>\n",
       "      <td>0</td>\n",
       "      <td>0</td>\n",
       "      <td>0</td>\n",
       "      <td>0</td>\n",
       "      <td>0</td>\n",
       "      <td>0</td>\n",
       "      <td>0</td>\n",
       "      <td>...</td>\n",
       "      <td>3</td>\n",
       "      <td>3</td>\n",
       "      <td>5</td>\n",
       "      <td>2</td>\n",
       "      <td>0</td>\n",
       "      <td>0</td>\n",
       "      <td>0</td>\n",
       "      <td>1</td>\n",
       "      <td>0</td>\n",
       "      <td>0</td>\n",
       "    </tr>\n",
       "    <tr>\n",
       "      <th>1</th>\n",
       "      <td>0</td>\n",
       "      <td>0</td>\n",
       "      <td>0</td>\n",
       "      <td>0</td>\n",
       "      <td>0</td>\n",
       "      <td>0</td>\n",
       "      <td>0</td>\n",
       "      <td>0</td>\n",
       "      <td>0</td>\n",
       "      <td>0</td>\n",
       "      <td>...</td>\n",
       "      <td>13</td>\n",
       "      <td>20</td>\n",
       "      <td>14</td>\n",
       "      <td>24</td>\n",
       "      <td>9</td>\n",
       "      <td>6</td>\n",
       "      <td>16</td>\n",
       "      <td>19</td>\n",
       "      <td>5</td>\n",
       "      <td>0</td>\n",
       "    </tr>\n",
       "    <tr>\n",
       "      <th>2</th>\n",
       "      <td>0</td>\n",
       "      <td>0</td>\n",
       "      <td>0</td>\n",
       "      <td>0</td>\n",
       "      <td>0</td>\n",
       "      <td>0</td>\n",
       "      <td>0</td>\n",
       "      <td>0</td>\n",
       "      <td>0</td>\n",
       "      <td>0</td>\n",
       "      <td>...</td>\n",
       "      <td>0</td>\n",
       "      <td>1</td>\n",
       "      <td>0</td>\n",
       "      <td>0</td>\n",
       "      <td>0</td>\n",
       "      <td>1</td>\n",
       "      <td>0</td>\n",
       "      <td>0</td>\n",
       "      <td>0</td>\n",
       "      <td>0</td>\n",
       "    </tr>\n",
       "    <tr>\n",
       "      <th>3</th>\n",
       "      <td>0</td>\n",
       "      <td>0</td>\n",
       "      <td>0</td>\n",
       "      <td>0</td>\n",
       "      <td>0</td>\n",
       "      <td>0</td>\n",
       "      <td>0</td>\n",
       "      <td>0</td>\n",
       "      <td>0</td>\n",
       "      <td>0</td>\n",
       "      <td>...</td>\n",
       "      <td>2</td>\n",
       "      <td>3</td>\n",
       "      <td>1</td>\n",
       "      <td>0</td>\n",
       "      <td>2</td>\n",
       "      <td>0</td>\n",
       "      <td>0</td>\n",
       "      <td>0</td>\n",
       "      <td>0</td>\n",
       "      <td>0</td>\n",
       "    </tr>\n",
       "    <tr>\n",
       "      <th>4</th>\n",
       "      <td>0</td>\n",
       "      <td>0</td>\n",
       "      <td>0</td>\n",
       "      <td>0</td>\n",
       "      <td>0</td>\n",
       "      <td>0</td>\n",
       "      <td>0</td>\n",
       "      <td>0</td>\n",
       "      <td>0</td>\n",
       "      <td>0</td>\n",
       "      <td>...</td>\n",
       "      <td>2</td>\n",
       "      <td>0</td>\n",
       "      <td>0</td>\n",
       "      <td>0</td>\n",
       "      <td>0</td>\n",
       "      <td>0</td>\n",
       "      <td>0</td>\n",
       "      <td>0</td>\n",
       "      <td>0</td>\n",
       "      <td>0</td>\n",
       "    </tr>\n",
       "  </tbody>\n",
       "</table>\n",
       "<p>5 rows × 604 columns</p>\n",
       "</div>"
      ],
      "text/plain": [
       "   2020-03-17  2020-03-18  2020-03-19  2020-03-20  2020-03-21  2020-03-22  \\\n",
       "0           0           0           0           0           0           0   \n",
       "1           0           0           0           0           0           0   \n",
       "2           0           0           0           0           0           0   \n",
       "3           0           0           0           0           0           0   \n",
       "4           0           0           0           0           0           0   \n",
       "\n",
       "   2020-03-23  2020-03-24  2020-03-25  2020-03-26  ...  2021-11-01  \\\n",
       "0           0           0           0           0  ...           3   \n",
       "1           0           0           0           0  ...          13   \n",
       "2           0           0           0           0  ...           0   \n",
       "3           0           0           0           0  ...           2   \n",
       "4           0           0           0           0  ...           2   \n",
       "\n",
       "   2021-11-02  2021-11-03  2021-11-04  2021-11-05  2021-11-06  2021-11-07  \\\n",
       "0           3           5           2           0           0           0   \n",
       "1          20          14          24           9           6          16   \n",
       "2           1           0           0           0           1           0   \n",
       "3           3           1           0           2           0           0   \n",
       "4           0           0           0           0           0           0   \n",
       "\n",
       "   2021-11-08  2021-11-09  2021-11-10  \n",
       "0           1           0           0  \n",
       "1          19           5           0  \n",
       "2           0           0           0  \n",
       "3           0           0           0  \n",
       "4           0           0           0  \n",
       "\n",
       "[5 rows x 604 columns]"
      ]
     },
     "execution_count": 37,
     "metadata": {},
     "output_type": "execute_result"
    }
   ],
   "source": [
    "datos_muertes = pd.read_csv(path + '\\datos_covid\\Casos_Diarios_Estado_Nacional_Defunciones_20211110.csv',sep=',')\n",
    "datos_muertes = datos_muertes.drop([\"cve_ent\",\"poblacion\",\"nombre\"],axis = 1)\n",
    "datos_muertes.head()"
   ]
  },
  {
   "cell_type": "code",
   "execution_count": 10,
   "id": "0f4084fc",
   "metadata": {},
   "outputs": [
    {
     "data": {
      "text/plain": [
       "Fecha\n",
       "2020-03-17    0\n",
       "2020-03-18    3\n",
       "2020-03-19    0\n",
       "2020-03-20    1\n",
       "2020-03-21    0\n",
       "Name: Casos, dtype: int64"
      ]
     },
     "execution_count": 10,
     "metadata": {},
     "output_type": "execute_result"
    }
   ],
   "source": [
    "muertes_nacional = datos_muertes.iloc[[-1]]\n",
    "muertes_nacional = pd.melt(muertes_nacional, var_name = \"Fecha\", value_name = \"Casos\")\n",
    "muertes_nacional[\"Fecha\"] = pd.to_datetime(muertes_nacional[\"Fecha\"])\n",
    "muertes_nacional = muertes_nacional.set_index(\"Fecha\")\n",
    "muertes_nacional = muertes_nacional[\"Casos\"]\n",
    "muertes_nacional.head()"
   ]
  },
  {
   "cell_type": "code",
   "execution_count": 11,
   "id": "bc592137",
   "metadata": {},
   "outputs": [
    {
     "data": {
      "image/png": "[encoded data removed]",
      "text/plain": [
       "<Figure size 432x288 with 1 Axes>"
      ]
     },
     "metadata": {
      "needs_background": "light"
     },
     "output_type": "display_data"
    },
    {
     "data": {
      "text/plain": [
       "<AxesSubplot:xlabel='Fecha'>"
      ]
     },
     "execution_count": 11,
     "metadata": {},
     "output_type": "execute_result"
    },
    {
     "data": {
      "image/png": "[encoded data removed]",
      "text/plain": [
       "<Figure size 432x288 with 1 Axes>"
      ]
     },
     "metadata": {
      "needs_background": "light"
     },
     "output_type": "display_data"
    }
   ],
   "source": [
    "muertes_sma = muertes_nacional.rolling(window = 7).mean()[6:-1]\n",
    "muertes_nacional.plot()\n",
    "muertes_sma.plot()\n",
    "plt.show()\n",
    "muertes_diff = muertes_sma.diff(periods = 1)[1:]\n",
    "muertes_diff.plot()"
   ]
  },
  {
   "cell_type": "code",
   "execution_count": 37,
   "id": "dea8907a",
   "metadata": {
    "scrolled": true
   },
   "outputs": [
    {
     "data": {
      "text/plain": [
       "<AxesSubplot:>"
      ]
     },
     "execution_count": 37,
     "metadata": {},
     "output_type": "execute_result"
    },
    {
     "data": {
      "image/png": "[encoded data removed]",
      "text/plain": [
       "<Figure size 432x288 with 1 Axes>"
      ]
     },
     "metadata": {
      "needs_background": "light"
     },
     "output_type": "display_data"
    }
   ],
   "source": [
    "casos_acum = np.cumsum(casos_sma[6:])\n",
    "casos_acum.head()\n",
    "casos_acum[150:].plot()"
   ]
  },
  {
   "cell_type": "markdown",
   "id": "8ce70fb9",
   "metadata": {},
   "source": [
    "## Datos de vacunaciones"
   ]
  },
  {
   "cell_type": "code",
   "execution_count": 15,
   "id": "d51d2a14",
   "metadata": {
    "scrolled": true
   },
   "outputs": [
    {
     "data": {
      "text/html": [
       "<div>\n",
       "<style scoped>\n",
       "    .dataframe tbody tr th:only-of-type {\n",
       "        vertical-align: middle;\n",
       "    }\n",
       "\n",
       "    .dataframe tbody tr th {\n",
       "        vertical-align: top;\n",
       "    }\n",
       "\n",
       "    .dataframe thead th {\n",
       "        text-align: right;\n",
       "    }\n",
       "</style>\n",
       "<table border=\"1\" class=\"dataframe\">\n",
       "  <thead>\n",
       "    <tr style=\"text-align: right;\">\n",
       "      <th></th>\n",
       "      <th>iso_code</th>\n",
       "      <th>continent</th>\n",
       "      <th>location</th>\n",
       "      <th>total_cases</th>\n",
       "      <th>new_cases</th>\n",
       "      <th>new_cases_smoothed</th>\n",
       "      <th>total_deaths</th>\n",
       "      <th>new_deaths</th>\n",
       "      <th>new_deaths_smoothed</th>\n",
       "      <th>total_cases_per_million</th>\n",
       "      <th>...</th>\n",
       "      <th>female_smokers</th>\n",
       "      <th>male_smokers</th>\n",
       "      <th>handwashing_facilities</th>\n",
       "      <th>hospital_beds_per_thousand</th>\n",
       "      <th>life_expectancy</th>\n",
       "      <th>human_development_index</th>\n",
       "      <th>excess_mortality_cumulative_absolute</th>\n",
       "      <th>excess_mortality_cumulative</th>\n",
       "      <th>excess_mortality</th>\n",
       "      <th>excess_mortality_cumulative_per_million</th>\n",
       "    </tr>\n",
       "    <tr>\n",
       "      <th>date</th>\n",
       "      <th></th>\n",
       "      <th></th>\n",
       "      <th></th>\n",
       "      <th></th>\n",
       "      <th></th>\n",
       "      <th></th>\n",
       "      <th></th>\n",
       "      <th></th>\n",
       "      <th></th>\n",
       "      <th></th>\n",
       "      <th></th>\n",
       "      <th></th>\n",
       "      <th></th>\n",
       "      <th></th>\n",
       "      <th></th>\n",
       "      <th></th>\n",
       "      <th></th>\n",
       "      <th></th>\n",
       "      <th></th>\n",
       "      <th></th>\n",
       "      <th></th>\n",
       "    </tr>\n",
       "  </thead>\n",
       "  <tbody>\n",
       "    <tr>\n",
       "      <th>2020-01-01</th>\n",
       "      <td>MEX</td>\n",
       "      <td>North America</td>\n",
       "      <td>Mexico</td>\n",
       "      <td>NaN</td>\n",
       "      <td>NaN</td>\n",
       "      <td>NaN</td>\n",
       "      <td>NaN</td>\n",
       "      <td>NaN</td>\n",
       "      <td>NaN</td>\n",
       "      <td>NaN</td>\n",
       "      <td>...</td>\n",
       "      <td>6.9</td>\n",
       "      <td>21.4</td>\n",
       "      <td>87.847</td>\n",
       "      <td>1.38</td>\n",
       "      <td>75.05</td>\n",
       "      <td>0.779</td>\n",
       "      <td>NaN</td>\n",
       "      <td>NaN</td>\n",
       "      <td>NaN</td>\n",
       "      <td>NaN</td>\n",
       "    </tr>\n",
       "    <tr>\n",
       "      <th>2020-01-02</th>\n",
       "      <td>MEX</td>\n",
       "      <td>North America</td>\n",
       "      <td>Mexico</td>\n",
       "      <td>NaN</td>\n",
       "      <td>NaN</td>\n",
       "      <td>NaN</td>\n",
       "      <td>NaN</td>\n",
       "      <td>NaN</td>\n",
       "      <td>NaN</td>\n",
       "      <td>NaN</td>\n",
       "      <td>...</td>\n",
       "      <td>6.9</td>\n",
       "      <td>21.4</td>\n",
       "      <td>87.847</td>\n",
       "      <td>1.38</td>\n",
       "      <td>75.05</td>\n",
       "      <td>0.779</td>\n",
       "      <td>NaN</td>\n",
       "      <td>NaN</td>\n",
       "      <td>NaN</td>\n",
       "      <td>NaN</td>\n",
       "    </tr>\n",
       "    <tr>\n",
       "      <th>2020-01-03</th>\n",
       "      <td>MEX</td>\n",
       "      <td>North America</td>\n",
       "      <td>Mexico</td>\n",
       "      <td>NaN</td>\n",
       "      <td>NaN</td>\n",
       "      <td>NaN</td>\n",
       "      <td>NaN</td>\n",
       "      <td>NaN</td>\n",
       "      <td>NaN</td>\n",
       "      <td>NaN</td>\n",
       "      <td>...</td>\n",
       "      <td>6.9</td>\n",
       "      <td>21.4</td>\n",
       "      <td>87.847</td>\n",
       "      <td>1.38</td>\n",
       "      <td>75.05</td>\n",
       "      <td>0.779</td>\n",
       "      <td>NaN</td>\n",
       "      <td>NaN</td>\n",
       "      <td>NaN</td>\n",
       "      <td>NaN</td>\n",
       "    </tr>\n",
       "    <tr>\n",
       "      <th>2020-01-04</th>\n",
       "      <td>MEX</td>\n",
       "      <td>North America</td>\n",
       "      <td>Mexico</td>\n",
       "      <td>NaN</td>\n",
       "      <td>NaN</td>\n",
       "      <td>NaN</td>\n",
       "      <td>NaN</td>\n",
       "      <td>NaN</td>\n",
       "      <td>NaN</td>\n",
       "      <td>NaN</td>\n",
       "      <td>...</td>\n",
       "      <td>6.9</td>\n",
       "      <td>21.4</td>\n",
       "      <td>87.847</td>\n",
       "      <td>1.38</td>\n",
       "      <td>75.05</td>\n",
       "      <td>0.779</td>\n",
       "      <td>NaN</td>\n",
       "      <td>NaN</td>\n",
       "      <td>NaN</td>\n",
       "      <td>NaN</td>\n",
       "    </tr>\n",
       "    <tr>\n",
       "      <th>2020-01-05</th>\n",
       "      <td>MEX</td>\n",
       "      <td>North America</td>\n",
       "      <td>Mexico</td>\n",
       "      <td>NaN</td>\n",
       "      <td>NaN</td>\n",
       "      <td>NaN</td>\n",
       "      <td>NaN</td>\n",
       "      <td>NaN</td>\n",
       "      <td>NaN</td>\n",
       "      <td>NaN</td>\n",
       "      <td>...</td>\n",
       "      <td>6.9</td>\n",
       "      <td>21.4</td>\n",
       "      <td>87.847</td>\n",
       "      <td>1.38</td>\n",
       "      <td>75.05</td>\n",
       "      <td>0.779</td>\n",
       "      <td>-354.3</td>\n",
       "      <td>NaN</td>\n",
       "      <td>NaN</td>\n",
       "      <td>NaN</td>\n",
       "    </tr>\n",
       "  </tbody>\n",
       "</table>\n",
       "<p>5 rows × 56 columns</p>\n",
       "</div>"
      ],
      "text/plain": [
       "           iso_code      continent location  total_cases  new_cases  \\\n",
       "date                                                                  \n",
       "2020-01-01      MEX  North America   Mexico          NaN        NaN   \n",
       "2020-01-02      MEX  North America   Mexico          NaN        NaN   \n",
       "2020-01-03      MEX  North America   Mexico          NaN        NaN   \n",
       "2020-01-04      MEX  North America   Mexico          NaN        NaN   \n",
       "2020-01-05      MEX  North America   Mexico          NaN        NaN   \n",
       "\n",
       "            new_cases_smoothed  total_deaths  new_deaths  new_deaths_smoothed  \\\n",
       "date                                                                            \n",
       "2020-01-01                 NaN           NaN         NaN                  NaN   \n",
       "2020-01-02                 NaN           NaN         NaN                  NaN   \n",
       "2020-01-03                 NaN           NaN         NaN                  NaN   \n",
       "2020-01-04                 NaN           NaN         NaN                  NaN   \n",
       "2020-01-05                 NaN           NaN         NaN                  NaN   \n",
       "\n",
       "            total_cases_per_million  ...  female_smokers  male_smokers  \\\n",
       "date                                 ...                                 \n",
       "2020-01-01                      NaN  ...             6.9          21.4   \n",
       "2020-01-02                      NaN  ...             6.9          21.4   \n",
       "2020-01-03                      NaN  ...             6.9          21.4   \n",
       "2020-01-04                      NaN  ...             6.9          21.4   \n",
       "2020-01-05                      NaN  ...             6.9          21.4   \n",
       "\n",
       "            handwashing_facilities  hospital_beds_per_thousand  \\\n",
       "date                                                             \n",
       "2020-01-01                  87.847                        1.38   \n",
       "2020-01-02                  87.847                        1.38   \n",
       "2020-01-03                  87.847                        1.38   \n",
       "2020-01-04                  87.847                        1.38   \n",
       "2020-01-05                  87.847                        1.38   \n",
       "\n",
       "            life_expectancy  human_development_index  \\\n",
       "date                                                   \n",
       "2020-01-01            75.05                    0.779   \n",
       "2020-01-02            75.05                    0.779   \n",
       "2020-01-03            75.05                    0.779   \n",
       "2020-01-04            75.05                    0.779   \n",
       "2020-01-05            75.05                    0.779   \n",
       "\n",
       "            excess_mortality_cumulative_absolute  excess_mortality_cumulative  \\\n",
       "date                                                                            \n",
       "2020-01-01                                   NaN                          NaN   \n",
       "2020-01-02                                   NaN                          NaN   \n",
       "2020-01-03                                   NaN                          NaN   \n",
       "2020-01-04                                   NaN                          NaN   \n",
       "2020-01-05                                -354.3                          NaN   \n",
       "\n",
       "            excess_mortality  excess_mortality_cumulative_per_million  \n",
       "date                                                                   \n",
       "2020-01-01               NaN                                      NaN  \n",
       "2020-01-02               NaN                                      NaN  \n",
       "2020-01-03               NaN                                      NaN  \n",
       "2020-01-04               NaN                                      NaN  \n",
       "2020-01-05               NaN                                      NaN  \n",
       "\n",
       "[5 rows x 56 columns]"
      ]
     },
     "execution_count": 15,
     "metadata": {},
     "output_type": "execute_result"
    }
   ],
   "source": [
    "path =  'C:\\\\Users\\jose_\\Desktop\\covid-19_model'\n",
    "datos = pd.read_csv(path + \"\\datos_covid\\datos_world.csv\", sep = ',')\n",
    "datos[\"date\"] = pd.to_datetime(datos[\"date\"])\n",
    "datos = datos.set_index(\"date\")\n",
    "datos.head()"
   ]
  },
  {
   "cell_type": "code",
   "execution_count": 21,
   "id": "74dd2106",
   "metadata": {},
   "outputs": [
    {
     "data": {
      "text/plain": [
       "Index(['iso_code', 'continent', 'location', 'total_cases', 'new_cases',\n",
       "       'new_cases_smoothed', 'total_deaths', 'new_deaths',\n",
       "       'new_deaths_smoothed', 'total_cases_per_million',\n",
       "       'new_cases_per_million', 'new_cases_smoothed_per_million',\n",
       "       'total_deaths_per_million', 'new_deaths_per_million',\n",
       "       'new_deaths_smoothed_per_million', 'reproduction_rate', 'new_tests',\n",
       "       'total_tests', 'total_tests_per_thousand', 'new_tests_per_thousand',\n",
       "       'new_tests_smoothed', 'new_tests_smoothed_per_thousand',\n",
       "       'positive_rate', 'tests_per_case', 'tests_units', 'total_vaccinations',\n",
       "       'people_vaccinated', 'people_fully_vaccinated', 'total_boosters',\n",
       "       'new_vaccinations', 'new_vaccinations_smoothed',\n",
       "       'total_vaccinations_per_hundred', 'people_vaccinated_per_hundred',\n",
       "       'people_fully_vaccinated_per_hundred', 'total_boosters_per_hundred',\n",
       "       'new_vaccinations_smoothed_per_million', 'stringency_index',\n",
       "       'population', 'population_density', 'median_age', 'aged_65_older',\n",
       "       'aged_70_older', 'gdp_per_capita', 'extreme_poverty',\n",
       "       'cardiovasc_death_rate', 'diabetes_prevalence', 'female_smokers',\n",
       "       'male_smokers', 'handwashing_facilities', 'hospital_beds_per_thousand',\n",
       "       'life_expectancy', 'human_development_index',\n",
       "       'excess_mortality_cumulative_absolute', 'excess_mortality_cumulative',\n",
       "       'excess_mortality', 'excess_mortality_cumulative_per_million'],\n",
       "      dtype='object')"
      ]
     },
     "execution_count": 21,
     "metadata": {},
     "output_type": "execute_result"
    }
   ],
   "source": [
    "datos.columns"
   ]
  },
  {
   "cell_type": "code",
   "execution_count": 22,
   "id": "5b3a729d",
   "metadata": {},
   "outputs": [
    {
     "data": {
      "text/plain": [
       "<AxesSubplot:xlabel='date'>"
      ]
     },
     "execution_count": 22,
     "metadata": {},
     "output_type": "execute_result"
    },
    {
     "data": {
      "image/png": "[encoded data removed]",
      "text/plain": [
       "<Figure size 432x288 with 1 Axes>"
      ]
     },
     "metadata": {
      "needs_background": "light"
     },
     "output_type": "display_data"
    }
   ],
   "source": [
    "vacunas = datos[\"new_vaccinations_smoothed\"].dropna()\n",
    "vacunas.plot(legend = True)"
   ]
  },
  {
   "cell_type": "code",
   "execution_count": 23,
   "id": "1507cd25",
   "metadata": {
    "scrolled": true
   },
   "outputs": [
    {
     "data": {
      "text/plain": [
       "<AxesSubplot:xlabel='date'>"
      ]
     },
     "execution_count": 23,
     "metadata": {},
     "output_type": "execute_result"
    },
    {
     "data": {
      "image/png": "[encoded data removed]",
      "text/plain": [
       "<Figure size 432x288 with 1 Axes>"
      ]
     },
     "metadata": {
      "needs_background": "light"
     },
     "output_type": "display_data"
    }
   ],
   "source": [
    "personas_vacunas_1 = datos[\"people_vaccinated\"].dropna()\n",
    "personas_vacunas_2 = datos[\"people_fully_vaccinated\"].dropna()\n",
    "personas_vacunas_1.plot(legend = True)\n",
    "personas_vacunas_2.plot(legend = True)"
   ]
  },
  {
   "cell_type": "markdown",
   "id": "8c2e03b5",
   "metadata": {},
   "source": [
    "## Datos de la UNAM"
   ]
  },
  {
   "cell_type": "code",
   "execution_count": 24,
   "id": "a8b94a7b",
   "metadata": {
    "scrolled": false
   },
   "outputs": [
    {
     "data": {
      "text/html": [
       "<div>\n",
       "<style scoped>\n",
       "    .dataframe tbody tr th:only-of-type {\n",
       "        vertical-align: middle;\n",
       "    }\n",
       "\n",
       "    .dataframe tbody tr th {\n",
       "        vertical-align: top;\n",
       "    }\n",
       "\n",
       "    .dataframe thead th {\n",
       "        text-align: right;\n",
       "    }\n",
       "</style>\n",
       "<table border=\"1\" class=\"dataframe\">\n",
       "  <thead>\n",
       "    <tr style=\"text-align: right;\">\n",
       "      <th></th>\n",
       "      <th>positivos</th>\n",
       "      <th>positivos_cum</th>\n",
       "      <th>muertes</th>\n",
       "      <th>muertes_cum</th>\n",
       "      <th>recuperados</th>\n",
       "      <th>recuperados_cum</th>\n",
       "      <th>activos</th>\n",
       "      <th>activos_cum</th>\n",
       "      <th>recu_neto</th>\n",
       "      <th>inferidos_8</th>\n",
       "      <th>...</th>\n",
       "      <th>letalidad</th>\n",
       "      <th>incdia_acum</th>\n",
       "      <th>incdia_recu</th>\n",
       "      <th>incdia_muer</th>\n",
       "      <th>incdia_act</th>\n",
       "      <th>rec_rate</th>\n",
       "      <th>rec_rate2</th>\n",
       "      <th>beta</th>\n",
       "      <th>beta2</th>\n",
       "      <th>r0</th>\n",
       "    </tr>\n",
       "    <tr>\n",
       "      <th>fecha_i</th>\n",
       "      <th></th>\n",
       "      <th></th>\n",
       "      <th></th>\n",
       "      <th></th>\n",
       "      <th></th>\n",
       "      <th></th>\n",
       "      <th></th>\n",
       "      <th></th>\n",
       "      <th></th>\n",
       "      <th></th>\n",
       "      <th></th>\n",
       "      <th></th>\n",
       "      <th></th>\n",
       "      <th></th>\n",
       "      <th></th>\n",
       "      <th></th>\n",
       "      <th></th>\n",
       "      <th></th>\n",
       "      <th></th>\n",
       "      <th></th>\n",
       "      <th></th>\n",
       "    </tr>\n",
       "  </thead>\n",
       "  <tbody>\n",
       "    <tr>\n",
       "      <th>2020-02-19</th>\n",
       "      <td>1</td>\n",
       "      <td>1</td>\n",
       "      <td>0</td>\n",
       "      <td>0</td>\n",
       "      <td>0</td>\n",
       "      <td>0</td>\n",
       "      <td>0</td>\n",
       "      <td>0</td>\n",
       "      <td>-1</td>\n",
       "      <td>0</td>\n",
       "      <td>...</td>\n",
       "      <td>0.0</td>\n",
       "      <td>1</td>\n",
       "      <td>0</td>\n",
       "      <td>0</td>\n",
       "      <td>0</td>\n",
       "      <td>0.0</td>\n",
       "      <td>0.0</td>\n",
       "      <td>0.0</td>\n",
       "      <td>0.0</td>\n",
       "      <td>0.0</td>\n",
       "    </tr>\n",
       "    <tr>\n",
       "      <th>2020-02-20</th>\n",
       "      <td>0</td>\n",
       "      <td>1</td>\n",
       "      <td>0</td>\n",
       "      <td>0</td>\n",
       "      <td>0</td>\n",
       "      <td>0</td>\n",
       "      <td>0</td>\n",
       "      <td>0</td>\n",
       "      <td>0</td>\n",
       "      <td>0</td>\n",
       "      <td>...</td>\n",
       "      <td>0.0</td>\n",
       "      <td>0</td>\n",
       "      <td>0</td>\n",
       "      <td>0</td>\n",
       "      <td>0</td>\n",
       "      <td>0.0</td>\n",
       "      <td>0.0</td>\n",
       "      <td>0.0</td>\n",
       "      <td>0.0</td>\n",
       "      <td>0.0</td>\n",
       "    </tr>\n",
       "    <tr>\n",
       "      <th>2020-02-21</th>\n",
       "      <td>0</td>\n",
       "      <td>1</td>\n",
       "      <td>0</td>\n",
       "      <td>0</td>\n",
       "      <td>0</td>\n",
       "      <td>0</td>\n",
       "      <td>0</td>\n",
       "      <td>0</td>\n",
       "      <td>0</td>\n",
       "      <td>0</td>\n",
       "      <td>...</td>\n",
       "      <td>0.0</td>\n",
       "      <td>0</td>\n",
       "      <td>0</td>\n",
       "      <td>0</td>\n",
       "      <td>0</td>\n",
       "      <td>0.0</td>\n",
       "      <td>0.0</td>\n",
       "      <td>0.0</td>\n",
       "      <td>0.0</td>\n",
       "      <td>0.0</td>\n",
       "    </tr>\n",
       "    <tr>\n",
       "      <th>2020-02-22</th>\n",
       "      <td>0</td>\n",
       "      <td>1</td>\n",
       "      <td>0</td>\n",
       "      <td>0</td>\n",
       "      <td>0</td>\n",
       "      <td>0</td>\n",
       "      <td>0</td>\n",
       "      <td>0</td>\n",
       "      <td>0</td>\n",
       "      <td>0</td>\n",
       "      <td>...</td>\n",
       "      <td>0.0</td>\n",
       "      <td>0</td>\n",
       "      <td>0</td>\n",
       "      <td>0</td>\n",
       "      <td>0</td>\n",
       "      <td>0.0</td>\n",
       "      <td>0.0</td>\n",
       "      <td>0.0</td>\n",
       "      <td>0.0</td>\n",
       "      <td>0.0</td>\n",
       "    </tr>\n",
       "    <tr>\n",
       "      <th>2020-02-23</th>\n",
       "      <td>0</td>\n",
       "      <td>1</td>\n",
       "      <td>0</td>\n",
       "      <td>0</td>\n",
       "      <td>0</td>\n",
       "      <td>0</td>\n",
       "      <td>0</td>\n",
       "      <td>0</td>\n",
       "      <td>0</td>\n",
       "      <td>0</td>\n",
       "      <td>...</td>\n",
       "      <td>0.0</td>\n",
       "      <td>0</td>\n",
       "      <td>0</td>\n",
       "      <td>0</td>\n",
       "      <td>0</td>\n",
       "      <td>0.0</td>\n",
       "      <td>0.0</td>\n",
       "      <td>0.0</td>\n",
       "      <td>0.0</td>\n",
       "      <td>0.0</td>\n",
       "    </tr>\n",
       "  </tbody>\n",
       "</table>\n",
       "<p>5 rows × 23 columns</p>\n",
       "</div>"
      ],
      "text/plain": [
       "            positivos  positivos_cum  muertes  muertes_cum  recuperados  \\\n",
       "fecha_i                                                                   \n",
       "2020-02-19          1              1        0            0            0   \n",
       "2020-02-20          0              1        0            0            0   \n",
       "2020-02-21          0              1        0            0            0   \n",
       "2020-02-22          0              1        0            0            0   \n",
       "2020-02-23          0              1        0            0            0   \n",
       "\n",
       "            recuperados_cum  activos  activos_cum  recu_neto  inferidos_8  \\\n",
       "fecha_i                                                                     \n",
       "2020-02-19                0        0            0         -1            0   \n",
       "2020-02-20                0        0            0          0            0   \n",
       "2020-02-21                0        0            0          0            0   \n",
       "2020-02-22                0        0            0          0            0   \n",
       "2020-02-23                0        0            0          0            0   \n",
       "\n",
       "            ...  letalidad  incdia_acum  incdia_recu  incdia_muer  incdia_act  \\\n",
       "fecha_i     ...                                                                 \n",
       "2020-02-19  ...        0.0            1            0            0           0   \n",
       "2020-02-20  ...        0.0            0            0            0           0   \n",
       "2020-02-21  ...        0.0            0            0            0           0   \n",
       "2020-02-22  ...        0.0            0            0            0           0   \n",
       "2020-02-23  ...        0.0            0            0            0           0   \n",
       "\n",
       "            rec_rate  rec_rate2  beta  beta2   r0  \n",
       "fecha_i                                            \n",
       "2020-02-19       0.0        0.0   0.0    0.0  0.0  \n",
       "2020-02-20       0.0        0.0   0.0    0.0  0.0  \n",
       "2020-02-21       0.0        0.0   0.0    0.0  0.0  \n",
       "2020-02-22       0.0        0.0   0.0    0.0  0.0  \n",
       "2020-02-23       0.0        0.0   0.0    0.0  0.0  \n",
       "\n",
       "[5 rows x 23 columns]"
      ]
     },
     "execution_count": 24,
     "metadata": {},
     "output_type": "execute_result"
    }
   ],
   "source": [
    "datos_covid = pd.read_csv(path + '\\datos_covid\\evolucion_nac3_1b.csv')\n",
    "datos_covid[\"fecha_i\"] = pd.to_datetime(datos_covid[\"fecha_i\"])\n",
    "datos_covid = datos_covid.set_index(\"fecha_i\")\n",
    "datos_covid.head()"
   ]
  },
  {
   "cell_type": "code",
   "execution_count": 25,
   "id": "ca6abf8b",
   "metadata": {},
   "outputs": [],
   "source": [
    "casos = datos_covid[\"positivos\"]\n",
    "casos_sma_1 = casos.rolling(window = 7).mean()[6:-1]"
   ]
  },
  {
   "cell_type": "code",
   "execution_count": 26,
   "id": "f4354de7",
   "metadata": {},
   "outputs": [
    {
     "data": {
      "text/plain": [
       "<AxesSubplot:xlabel='fecha_i'>"
      ]
     },
     "execution_count": 26,
     "metadata": {},
     "output_type": "execute_result"
    },
    {
     "data": {
      "image/png": "[encoded data removed]",
      "text/plain": [
       "<Figure size 432x288 with 1 Axes>"
      ]
     },
     "metadata": {
      "needs_background": "light"
     },
     "output_type": "display_data"
    }
   ],
   "source": [
    "recuperados = datos_covid[\"recuperados\"]\n",
    "rec_sma = recuperados.rolling(window = 7).mean()\n",
    "rec_sma.plot()"
   ]
  },
  {
   "cell_type": "code",
   "execution_count": 27,
   "id": "c0c7268b",
   "metadata": {},
   "outputs": [],
   "source": [
    "muertes = datos_covid[\"muertes\"]\n",
    "muertes_sma_1 = muertes.rolling(window = 7).mean()"
   ]
  },
  {
   "cell_type": "code",
   "execution_count": 28,
   "id": "9fe0f6a7",
   "metadata": {},
   "outputs": [
    {
     "data": {
      "text/plain": [
       "<AxesSubplot:>"
      ]
     },
     "execution_count": 28,
     "metadata": {},
     "output_type": "execute_result"
    },
    {
     "data": {
      "image/png": "[encoded data removed]",
      "text/plain": [
       "<Figure size 432x288 with 1 Axes>"
      ]
     },
     "metadata": {
      "needs_background": "light"
     },
     "output_type": "display_data"
    }
   ],
   "source": [
    "activos = np.cumsum(casos_sma)-np.cumsum(rec_sma)-np.cumsum(muertes_sma)\n",
    "activos.plot()"
   ]
  },
  {
   "cell_type": "code",
   "execution_count": 29,
   "id": "a5be891c",
   "metadata": {},
   "outputs": [
    {
     "data": {
      "text/plain": [
       "<AxesSubplot:>"
      ]
     },
     "execution_count": 29,
     "metadata": {},
     "output_type": "execute_result"
    },
    {
     "data": {
      "image/png": "[encoded data removed]",
      "text/plain": [
       "<Figure size 432x288 with 1 Axes>"
      ]
     },
     "metadata": {
      "needs_background": "light"
     },
     "output_type": "display_data"
    }
   ],
   "source": [
    "activos_diff = activos.diff(periods = 1)\n",
    "activos_diff[0:150].plot()"
   ]
  },
  {
   "cell_type": "markdown",
   "id": "0ba7518e",
   "metadata": {},
   "source": [
    "  # Modelo LSTM"
   ]
  },
  {
   "cell_type": "code",
   "execution_count": 38,
   "id": "cfc6963b",
   "metadata": {},
   "outputs": [],
   "source": [
    "#Importamos las librerías para el modelo LSTM\n",
    "from keras.models import Sequential\n",
    "from keras.layers import LSTM\n",
    "from keras.layers import Dense"
   ]
  },
  {
   "cell_type": "markdown",
   "id": "ea1f1e19",
   "metadata": {},
   "source": [
    "Creamos una función que separa convierte una lista en una matriz y un vector de resultados"
   ]
  },
  {
   "cell_type": "code",
   "execution_count": 18,
   "id": "26a7cba9",
   "metadata": {},
   "outputs": [],
   "source": [
    "def split_list(arr, n_steps):\n",
    "    X,y = list(), list()\n",
    "    for i in range(len(arr)):\n",
    "        end = i + n_steps\n",
    "        if end > len(arr)-1:\n",
    "            break\n",
    "        X.append(arr[i:end])\n",
    "        y.append(arr[end])\n",
    "    return np.array(X),np.array(y)"
   ]
  },
  {
   "cell_type": "code",
   "execution_count": 19,
   "id": "36cf66e9",
   "metadata": {},
   "outputs": [
    {
     "data": {
      "text/plain": [
       "array([[10, 20, 30],\n",
       "       [20, 30, 40],\n",
       "       [30, 40, 50],\n",
       "       [40, 50, 60],\n",
       "       [50, 60, 70],\n",
       "       [60, 70, 80]])"
      ]
     },
     "execution_count": 19,
     "metadata": {},
     "output_type": "execute_result"
    }
   ],
   "source": [
    "n_steps = 3\n",
    "arr = [10,20,30,40,50,60,70,80,90]\n",
    "x,y = split_list(arr,n_steps)\n",
    "x"
   ]
  },
  {
   "cell_type": "code",
   "execution_count": 20,
   "id": "6cd95c03",
   "metadata": {},
   "outputs": [
    {
     "name": "stdout",
     "output_type": "stream",
     "text": [
      "[10 20 30] 40\n",
      "[20 30 40] 50\n",
      "[30 40 50] 60\n",
      "[40 50 60] 70\n",
      "[50 60 70] 80\n",
      "[60 70 80] 90\n"
     ]
    }
   ],
   "source": [
    "for i in range(len(x)):\n",
    "    print(x[i],y[i])"
   ]
  },
  {
   "cell_type": "code",
   "execution_count": 21,
   "id": "db299251",
   "metadata": {},
   "outputs": [
    {
     "data": {
      "text/plain": [
       "(6, 3, 1)"
      ]
     },
     "execution_count": 21,
     "metadata": {},
     "output_type": "execute_result"
    }
   ],
   "source": [
    "n_features = 1\n",
    "x = x.reshape((x.shape[0], x.shape[1], n_features))\n",
    "np.shape(x)"
   ]
  },
  {
   "cell_type": "markdown",
   "id": "305c4882",
   "metadata": {},
   "source": [
    "This is a one layer LSTM model that reads a 3 dimensional input and outputs a 2D array"
   ]
  },
  {
   "cell_type": "code",
   "execution_count": 22,
   "id": "6991210b",
   "metadata": {},
   "outputs": [],
   "source": [
    "model = Sequential()\n",
    "model.add(LSTM(50, activation='relu', input_shape=(n_steps, n_features)))\n",
    "model.add(Dense(1))\n",
    "model.compile(optimizer='adam', loss='mse')"
   ]
  },
  {
   "cell_type": "code",
   "execution_count": 23,
   "id": "c2668291",
   "metadata": {},
   "outputs": [
    {
     "name": "stdout",
     "output_type": "stream",
     "text": [
      "[[102.878044]]\n"
     ]
    }
   ],
   "source": [
    "# fit model\n",
    "model.fit(x, y, epochs=200, verbose=0)\n",
    "# demonstrate prediction\n",
    "x_input = np.array([70, 80, 90])\n",
    "x_input = x_input.reshape((1, n_steps, n_features))\n",
    "yhat = model.predict(x_input, verbose=0)\n",
    "print(yhat)"
   ]
  },
  {
   "cell_type": "markdown",
   "id": "78255e69",
   "metadata": {},
   "source": [
    "## Stacked LSTM"
   ]
  },
  {
   "cell_type": "markdown",
   "id": "819c27db",
   "metadata": {},
   "source": [
    "We can stack LSTM layers by asking the model the first layer to output a value for each time step as follows:"
   ]
  },
  {
   "cell_type": "code",
   "execution_count": 24,
   "id": "0b30116b",
   "metadata": {},
   "outputs": [],
   "source": [
    "#model.add(LSTM(50, activation='relu', return_sequences=True, input_shape=(n_steps, n_features)))"
   ]
  },
  {
   "cell_type": "code",
   "execution_count": 60,
   "id": "d79e13a8",
   "metadata": {},
   "outputs": [
    {
     "name": "stdout",
     "output_type": "stream",
     "text": [
      "[[104.244514]]\n"
     ]
    }
   ],
   "source": [
    "model = Sequential()\n",
    "model.add(LSTM(50, activation='relu', return_sequences=True, input_shape=(n_steps, n_features)))\n",
    "model.add(LSTM(50, activation='relu'))\n",
    "model.add(Dense(1))\n",
    "model.compile(optimizer='adam', loss='mse')\n",
    "# fit model\n",
    "model.fit(x, y, epochs=200, verbose=0)\n",
    "# demonstrate prediction\n",
    "x_input = np.array([70, 80, 90])\n",
    "x_input = x_input.reshape((1, n_steps, n_features))\n",
    "yhat = model.predict(x_input, verbose=0)\n",
    "print(yhat)"
   ]
  },
  {
   "cell_type": "markdown",
   "id": "70275cd7",
   "metadata": {},
   "source": [
    "## Bidirectional LSTM"
   ]
  },
  {
   "cell_type": "code",
   "execution_count": 61,
   "id": "2c30e75a",
   "metadata": {},
   "outputs": [
    {
     "name": "stdout",
     "output_type": "stream",
     "text": [
      "[[101.56053]]\n"
     ]
    }
   ],
   "source": [
    "from keras.layers import Bidirectional\n",
    "model = Sequential()\n",
    "model.add(Bidirectional(LSTM(50, activation='relu'), input_shape=(n_steps, n_features)))\n",
    "model.add(Dense(1))\n",
    "model.compile(optimizer='adam', loss='mse')\n",
    "# fit model\n",
    "model.fit(x, y, epochs=200, verbose=0)\n",
    "# demonstrate prediction\n",
    "x_input = np.array([70, 80, 90])\n",
    "x_input = x_input.reshape((1, n_steps, n_features))\n",
    "yhat = model.predict(x_input, verbose=0)\n",
    "print(yhat)"
   ]
  },
  {
   "cell_type": "markdown",
   "id": "6f0a5fb8",
   "metadata": {},
   "source": [
    "# Multi-step LSTM"
   ]
  },
  {
   "cell_type": "markdown",
   "id": "c8a66c34",
   "metadata": {},
   "source": [
    "If we want to predict more than one value into the future we need to apply other models of LSTM.\n",
    "But first we need to prepare our data. We want to create to arrays, one with the input values and the other with output values"
   ]
  },
  {
   "cell_type": "code",
   "execution_count": 39,
   "id": "1466a1de",
   "metadata": {},
   "outputs": [],
   "source": [
    "# Function to split a univariate time series into a matrices of input and output values\n",
    "def series_split_multi(series, n_input, n_output):\n",
    "    X, y = list(), list()\n",
    "    for i in range(len(series)):\n",
    "        end_x = n_input + i\n",
    "        end_y = n_output + end_x\n",
    "        if end_y > len(series):\n",
    "            break\n",
    "        X.append(series[i:end_x])\n",
    "        y.append(series[end_x:end_y])\n",
    "    return np.array(X), np.array(y)"
   ]
  },
  {
   "cell_type": "code",
   "execution_count": 40,
   "id": "b7be70e2",
   "metadata": {},
   "outputs": [
    {
     "name": "stdout",
     "output_type": "stream",
     "text": [
      "[10 20 30] [40 50]\n",
      "[20 30 40] [50 60]\n",
      "[30 40 50] [60 70]\n",
      "[40 50 60] [70 80]\n",
      "[50 60 70] [80 90]\n"
     ]
    }
   ],
   "source": [
    "n_steps_in, n_steps_out = 3, 2\n",
    "l = [10,20,30,40,50,60,70,80,90]\n",
    "X, y = series_split_multi(l,n_steps_in,n_steps_out)\n",
    "for i in range(len(X)):\n",
    "    print(X[i],y[i])"
   ]
  },
  {
   "cell_type": "markdown",
   "id": "9ed93ec6",
   "metadata": {},
   "source": [
    "The LSTM expects the input data to be in the form of a 3D array: samples, timesteps, features. Currently it is in the shape (samples, timesteps) and we only have one feature so this is straightforward."
   ]
  },
  {
   "cell_type": "code",
   "execution_count": 41,
   "id": "97be4064",
   "metadata": {},
   "outputs": [
    {
     "data": {
      "text/plain": [
       "((5, 3, 1), (5, 2))"
      ]
     },
     "execution_count": 41,
     "metadata": {},
     "output_type": "execute_result"
    }
   ],
   "source": [
    "n_features = 1\n",
    "X = X.reshape((X.shape[0], X.shape[1], n_features))\n",
    "X.shape, y.shape"
   ]
  },
  {
   "cell_type": "markdown",
   "id": "19892cf9",
   "metadata": {},
   "source": [
    "# Multi-step Forecasting with walk forward validation"
   ]
  },
  {
   "cell_type": "markdown",
   "id": "a4f71252",
   "metadata": {},
   "source": [
    "Now we will start predicting the covid-19 cases week by week using walk-forward validation. This means that the model will be given the first week of data and it will predict the second week. Then the actual week 2 data will be given in order to predict week 3 using weeks 1 and 2, and so on.\\\\\n",
    "First we have to split the data into train and test and organize it in chunks of weeks:"
   ]
  },
  {
   "cell_type": "code",
   "execution_count": 42,
   "id": "2a3bac70",
   "metadata": {},
   "outputs": [],
   "source": [
    "from sklearn.metrics import *"
   ]
  },
  {
   "cell_type": "code",
   "execution_count": 43,
   "id": "7039d6a3",
   "metadata": {},
   "outputs": [],
   "source": [
    "def smape(y,y_hat):\n",
    "    s = 0\n",
    "    for i in range(len(y)):\n",
    "        s = s + np.abs((y[i]-y_hat[i])/(y[i]+y_hat[i]))\n",
    "    smape = s*2/len(y)\n",
    "    return smape"
   ]
  },
  {
   "cell_type": "code",
   "execution_count": 46,
   "id": "4c22099e",
   "metadata": {},
   "outputs": [
    {
     "data": {
      "text/plain": [
       "(684, 678)"
      ]
     },
     "execution_count": 46,
     "metadata": {},
     "output_type": "execute_result"
    }
   ],
   "source": [
    "casos_sma.count(), casos_acum.count()"
   ]
  },
  {
   "cell_type": "code",
   "execution_count": 47,
   "id": "4cf6ee27",
   "metadata": {},
   "outputs": [],
   "source": [
    "def split_weeks(data,n_test,n_input):\n",
    "    # Divide in train and test sets\n",
    "    train, test = data[:-n_test], data[-n_test:]\n",
    "    # Split into weeks\n",
    "    train = np.array(np.split(train, len(train)/n_input))\n",
    "    test = np.array(np.split(test, len(test)/n_input))\n",
    "    return train, test"
   ]
  },
  {
   "cell_type": "markdown",
   "id": "8cb10cd6",
   "metadata": {},
   "source": [
    "## Univariate input and vector output"
   ]
  },
  {
   "cell_type": "markdown",
   "id": "d5427891",
   "metadata": {},
   "source": [
    "We can see that the training set has only 83 weeks, which is not a lot for our model, so we can arranged the data in a different way. This will be to set it up so that the first week has the values [d1,d2,d3,d4,d5,d6,d7] and the second week [d2,d3,d4,d5,d6,d7,d8] and so on."
   ]
  },
  {
   "cell_type": "code",
   "execution_count": 48,
   "id": "47468f5d",
   "metadata": {},
   "outputs": [],
   "source": [
    "# Function to split a univariate time series into a matrices of input and output values\n",
    "def series_split_multi(series, n_input, n_output):\n",
    "    #flatten\n",
    "    series = np.reshape(series, series.shape[0]*series.shape[1])\n",
    "    X, y = list(), list()\n",
    "    for i in range(len(series)):\n",
    "        end_x = n_input + i\n",
    "        end_y = n_output + end_x\n",
    "        if end_y > len(series):\n",
    "            break\n",
    "        X.append(series[i:end_x])\n",
    "        y.append(series[end_x:end_y])\n",
    "    X = np.array(X)\n",
    "    X = X.reshape(X.shape[0], X.shape[1], 1)\n",
    "    return X, np.array(y)"
   ]
  },
  {
   "cell_type": "markdown",
   "id": "fba864c8",
   "metadata": {},
   "source": [
    "Next we have the function to build the model and make a forecast into the future based on the data of the previous week"
   ]
  },
  {
   "cell_type": "code",
   "execution_count": 49,
   "id": "7bbf2d28",
   "metadata": {},
   "outputs": [],
   "source": [
    "from keras.layers import RepeatVector\n",
    "from keras.layers import TimeDistributed\n",
    "from keras.layers import Flatten"
   ]
  },
  {
   "cell_type": "code",
   "execution_count": 50,
   "id": "ff58de9c",
   "metadata": {},
   "outputs": [],
   "source": [
    "from keras.layers.convolutional import Conv1D\n",
    "from keras.layers.convolutional import MaxPooling1D"
   ]
  },
  {
   "cell_type": "markdown",
   "id": "d5ee82ca",
   "metadata": {},
   "source": [
    "## Vanila LSTM"
   ]
  },
  {
   "cell_type": "code",
   "execution_count": 51,
   "id": "a610f121",
   "metadata": {},
   "outputs": [],
   "source": [
    "# Vanila lstm\n",
    "def build_model(train, n_input, epochs, neurons_lstm, neurons_dense, batch):\n",
    "    # prepare data\n",
    "    train_x, train_y = series_split_multi(train, n_input, n_input)\n",
    "    # define parameters\n",
    "    verbose = 0\n",
    "    n_timesteps, n_features, n_outputs = train_x.shape[1], train_x.shape[2], train_y.shape[1]\n",
    "    # define model\n",
    "    model = Sequential()\n",
    "    model.add(LSTM(neurons_lstm, activation='relu', input_shape=(n_timesteps, n_features)))\n",
    "    model.add(Dense(neurons_dense, activation='relu'))\n",
    "    model.add(Dense(n_outputs))\n",
    "    model.compile(loss='mse', optimizer='adam')\n",
    "    # fit network\n",
    "    model.fit(train_x, train_y, epochs=epochs, batch_size=batch, verbose=verbose)\n",
    "    return model"
   ]
  },
  {
   "cell_type": "markdown",
   "id": "e914298e",
   "metadata": {},
   "source": [
    "## Encoder-decoder LSTM"
   ]
  },
  {
   "cell_type": "code",
   "execution_count": 52,
   "id": "3609d3ff",
   "metadata": {},
   "outputs": [],
   "source": [
    "# Encoder decoder lstm (two lstm layers stacked)\n",
    "def build_model_stacked(train, n_input):\n",
    "    # prepare data\n",
    "    train_x, train_y = series_split_multi(train, n_input, n_input)\n",
    "    # define parameters\n",
    "    verbose, epochs, batch_size = 0, 50, 16\n",
    "    n_timesteps, n_features, n_outputs = train_x.shape[1], train_x.shape[2], train_y.shape[1]\n",
    "    # reshape output into [samples, timesteps, features]\n",
    "    train_y = train_y.reshape((train_y.shape[0], train_y.shape[1], 1))\n",
    "    # define model\n",
    "    model = Sequential()\n",
    "    model.add(LSTM(128, activation='relu', input_shape=(n_timesteps, n_features)))\n",
    "    model.add(RepeatVector(n_outputs))\n",
    "    model.add(LSTM(128, activation='relu', return_sequences=True))\n",
    "    model.add(TimeDistributed(Dense(150, activation='relu')))\n",
    "    model.add(TimeDistributed(Dense(1)))\n",
    "    model.compile(loss='mse', optimizer='adam')\n",
    "    # fit network\n",
    "    model.fit(train_x, train_y, epochs=epochs, batch_size=batch_size, verbose=verbose)\n",
    "    return model"
   ]
  },
  {
   "cell_type": "markdown",
   "id": "0d6dab6c",
   "metadata": {},
   "source": [
    "## CNN LSTM"
   ]
  },
  {
   "cell_type": "code",
   "execution_count": 53,
   "id": "1549771b",
   "metadata": {},
   "outputs": [],
   "source": [
    "# CNN LSTM\n",
    "def build_model_cnn(train, n_input):\n",
    "    # prepare data\n",
    "    train_x, train_y = series_split_multi(train, n_input, n_input)\n",
    "    # define parameters\n",
    "    verbose, epochs, batch_size = 0, 20, 10\n",
    "    n_timesteps, n_features, n_outputs = train_x.shape[1], train_x.shape[2], train_y.shape[1]\n",
    "    # reshape output into [samples, timesteps, features]\n",
    "    train_y = train_y.reshape((train_y.shape[0], train_y.shape[1], 1))\n",
    "    # define model\n",
    "    model = Sequential()\n",
    "    model.add(Conv1D(filters=64, kernel_size=3, activation='relu', input_shape=(n_timesteps,n_features)))\n",
    "    model.add(Conv1D(filters=64, kernel_size=3, activation='relu'))\n",
    "    model.add(MaxPooling1D(pool_size=2))\n",
    "    model.add(Flatten())\n",
    "    model.add(RepeatVector(n_outputs))\n",
    "    model.add(LSTM(200, activation='relu', return_sequences=True))\n",
    "    model.add(TimeDistributed(Dense(100, activation='relu')))\n",
    "    model.add(TimeDistributed(Dense(1)))\n",
    "    model.compile(loss='mse', optimizer='adam')\n",
    "    # fit network\n",
    "    model.fit(train_x, train_y, epochs=epochs, batch_size=batch_size, verbose=verbose)\n",
    "    return model"
   ]
  },
  {
   "cell_type": "code",
   "execution_count": 54,
   "id": "b73e2b95",
   "metadata": {},
   "outputs": [],
   "source": [
    "# Convolutional LSTM\n",
    "def build_model_conv(train, n_input, n_steps = 4, n_length=7):\n",
    "\t# prepare data\n",
    "\ttrain_x, train_y = series_split_multi(train, n_input, n_input)\n",
    "\t# define parameters\n",
    "\tverbose, epochs, batch_size = 0, 20, 16\n",
    "\tn_timesteps, n_features, n_outputs = train_x.shape[1], train_x.shape[2], train_y.shape[1]\n",
    "\t# reshape into subsequences [samples, time steps, rows, cols, channels]\n",
    "\ttrain_x = train_x.reshape((train_x.shape[0], n_steps, 1, n_length, n_features))\n",
    "\t# reshape output into [samples, timesteps, features]\n",
    "\ttrain_y = train_y.reshape((train_y.shape[0], train_y.shape[1], 1))\n",
    "\t# define model\n",
    "\tmodel = Sequential()\n",
    "\tmodel.add(ConvLSTM2D(filters=64, kernel_size=(1,3), activation='relu', input_shape=(n_steps, 1, n_length, n_features)))\n",
    "\tmodel.add(Flatten())\n",
    "\tmodel.add(RepeatVector(n_outputs))\n",
    "\tmodel.add(LSTM(200, activation='relu', return_sequences=True))\n",
    "\tmodel.add(TimeDistributed(Dense(100, activation='relu')))\n",
    "\tmodel.add(TimeDistributed(Dense(1)))\n",
    "\tmodel.compile(loss='mse', optimizer='adam')\n",
    "\t# fit network\n",
    "\tmodel.fit(train_x, train_y, epochs=epochs, batch_size=batch_size, verbose=verbose)\n",
    "\treturn model"
   ]
  },
  {
   "cell_type": "code",
   "execution_count": 55,
   "id": "9ed0c861",
   "metadata": {},
   "outputs": [],
   "source": [
    "# Forecast\n",
    "def forecast(model,history, n_input):\n",
    "    data = np.array(history)\n",
    "    data = data.reshape(data.shape[0]*data.shape[1])\n",
    "    input_x = data[-n_input:]\n",
    "    # For Convolutional LSTM\n",
    "    #input_x = input_x.reshape((1, 1, 1, n_input, 1))\n",
    "    #For any other LSTM model\n",
    "    input_x = input_x.reshape((1,len(input_x),1))\n",
    "    \n",
    "    # forecast the next week\n",
    "    yhat = model.predict(input_x, verbose=0)\n",
    "    # we only want the vector forecast\n",
    "    yhat = yhat[0]\n",
    "    return yhat        "
   ]
  },
  {
   "cell_type": "code",
   "execution_count": 56,
   "id": "8d6247cd",
   "metadata": {},
   "outputs": [],
   "source": [
    "# evaluate one or more weekly forecasts against expected values\n",
    "def evaluate_forecasts(actual, predicted):\n",
    "    scores = list()\n",
    "    # calculate an RMSE score for each day\n",
    "    for i in range(actual.shape[1]):\n",
    "        # calculate mse\n",
    "        mse = mean_squared_error(actual[:, i], predicted[:, i])\n",
    "        # calculate rmse\n",
    "        rmse = np.sqrt(mse)\n",
    "        # store\n",
    "        scores.append(rmse)\n",
    "    # calculate overall RMSE\n",
    "    s = 0\n",
    "    for row in range(actual.shape[0]):\n",
    "        for col in range(actual.shape[1]):\n",
    "            s += (actual[row, col] - predicted[row, col])**2\n",
    "    score = np.sqrt(s / (actual.shape[0] * actual.shape[1]))\n",
    "    return score, scores"
   ]
  },
  {
   "cell_type": "code",
   "execution_count": 57,
   "id": "1e8108fb",
   "metadata": {},
   "outputs": [],
   "source": [
    "# Function to evaluate to the model\n",
    "def evaluate_model(train, test, n_input, epochs = 100, neurons_lstm = 128, neurons_dense = 150, batch = 16):\n",
    "    #Train the model\n",
    "    model = build_model(train,n_input,epochs, neurons_lstm, neurons_dense, batch) # Vanila lstm\n",
    "    #model = build_model_stacked(train,n_input) # Encoder-decoder lstm\n",
    "    #model = build_model_cnn(train,n_input) # cnn lstm\n",
    "    #model = build_model_conv(train,n_input=n_input) # conv lstm\n",
    "    #Hiistory in weekly data\n",
    "    history = [x for x in train]\n",
    "    predictions = []\n",
    "    for i in range(len(test)):\n",
    "        yhat = forecast(model, history, n_input)\n",
    "        predictions.append(yhat)\n",
    "        history.append(test[i,:])\n",
    "    predictions = np.array(predictions)\n",
    "    score, scores = evaluate_forecasts(test, predictions)\n",
    "    return score, scores, predictions"
   ]
  },
  {
   "cell_type": "code",
   "execution_count": 58,
   "id": "ed8fde2e",
   "metadata": {},
   "outputs": [],
   "source": [
    "import time\n",
    "import math\n",
    "def best_scores(train,test,n_input, epochs, neurons_lstm, neurons_dense, batch):\n",
    "    print(f\"Corriendo el modelo LSTM\")\n",
    "    print(f\"Epochs: {epochs}, Neurons_lstm: {neurons_lstm}, Neurons_dense: {neurons_dense}, Batch Size: {batch}\")\n",
    "    print(\"===================\")\n",
    "    start = time.time()\n",
    "    rmse = []\n",
    "    min_error = math.inf\n",
    "    for i in range(30):\n",
    "        start_exp = time.time()\n",
    "        print(f\"Experimento {i+1}\")\n",
    "        score,scores,pred = evaluate_model(train, test, n_input)#, epochs, neurons_lstm, neurons_dense, batch)\n",
    "        rmse.append(score)\n",
    "        print(\"Error del modelo RMSE: %.4f\" % (score))\n",
    "        runtime = time.time() - start_exp\n",
    "        print(\"Runtime del experimento %i: %.4f\" % (i+1,runtime))\n",
    "        print(\"---------------------------------\")\n",
    "        if score < min_error:\n",
    "            min_error = score\n",
    "            min_pred = pred\n",
    "            min_scores = scores\n",
    "    print(\"---------------------------------\")\n",
    "    print(f\"Runtime: {time.time()-start}\")\n",
    "    return rmse, min_error, min_pred, min_scores"
   ]
  },
  {
   "cell_type": "code",
   "execution_count": 59,
   "id": "f60b07ee",
   "metadata": {},
   "outputs": [
    {
     "name": "stdout",
     "output_type": "stream",
     "text": [
      "672\n",
      "665\n",
      "658\n",
      "651\n",
      "644\n",
      "637\n",
      "630\n",
      "623\n",
      "616\n",
      "609\n",
      "602\n"
     ]
    }
   ],
   "source": [
    "k = casos_acum.count()\n",
    "while k > 600:\n",
    "    if k % 7 == 0:\n",
    "        print(k)\n",
    "    k = k - 1"
   ]
  },
  {
   "cell_type": "code",
   "execution_count": 85,
   "id": "a4a1e395",
   "metadata": {
    "scrolled": true
   },
   "outputs": [
    {
     "name": "stdout",
     "output_type": "stream",
     "text": [
      "(92, 7)\n",
      "0.0 0.0751699320271863\n",
      "(4, 7)\n",
      "0.07308681465685969 1.0\n"
     ]
    }
   ],
   "source": [
    "n_test = 28\n",
    "n_input = 7\n",
    "resta = 6\n",
    "#series = casos_sma[:-resta] # Casos diarios (promedio de 7 días)\n",
    "series_0 = casos_acum[:-resta+1].diff(periods = 1)[1:] # Casos acumulados\n",
    "series = (series_0 - series_0.min())/(series_0.max()-series_0.min())\n",
    "train, test = split_weeks(series,n_test,n_input)\n",
    "print(train.shape)\n",
    "print(train[0, 0], train[-1, -1])\n",
    "# validate test\n",
    "print(test.shape)\n",
    "print(test[0, 0], test[-1, -1])"
   ]
  },
  {
   "cell_type": "code",
   "execution_count": 86,
   "id": "c912b435",
   "metadata": {
    "scrolled": false
   },
   "outputs": [
    {
     "name": "stdout",
     "output_type": "stream",
     "text": [
      "Corriendo el modelo LSTM\n",
      "Epochs: 70, Neurons_lstm: 128, Neurons_dense: 150, Batch Size: 16\n",
      "===================\n",
      "Experimento 1\n",
      "Error del modelo RMSE: 0.1979\n",
      "Runtime del experimento 1: 15.7855\n",
      "---------------------------------\n",
      "Experimento 2\n",
      "Error del modelo RMSE: 0.2022\n",
      "Runtime del experimento 2: 15.8126\n",
      "---------------------------------\n",
      "Experimento 3\n",
      "Error del modelo RMSE: 0.1975\n",
      "Runtime del experimento 3: 16.3625\n",
      "---------------------------------\n",
      "Experimento 4\n",
      "Error del modelo RMSE: 0.1992\n",
      "Runtime del experimento 4: 15.5412\n",
      "---------------------------------\n",
      "Experimento 5\n",
      "Error del modelo RMSE: 0.2008\n",
      "Runtime del experimento 5: 18.3987\n",
      "---------------------------------\n",
      "Experimento 6\n",
      "Error del modelo RMSE: 0.1947\n",
      "Runtime del experimento 6: 15.4012\n",
      "---------------------------------\n",
      "Experimento 7\n",
      "Error del modelo RMSE: 0.1973\n",
      "Runtime del experimento 7: 14.9680\n",
      "---------------------------------\n",
      "Experimento 8\n",
      "Error del modelo RMSE: 0.2047\n",
      "Runtime del experimento 8: 14.4212\n",
      "---------------------------------\n",
      "Experimento 9\n",
      "Error del modelo RMSE: 0.1996\n",
      "Runtime del experimento 9: 16.9655\n",
      "---------------------------------\n",
      "Experimento 10\n",
      "Error del modelo RMSE: 0.1984\n",
      "Runtime del experimento 10: 16.2079\n",
      "---------------------------------\n",
      "Experimento 11\n",
      "Error del modelo RMSE: 0.1969\n",
      "Runtime del experimento 11: 15.9359\n",
      "---------------------------------\n",
      "Experimento 12\n",
      "Error del modelo RMSE: 0.2066\n",
      "Runtime del experimento 12: 16.6401\n",
      "---------------------------------\n",
      "Experimento 13\n",
      "Error del modelo RMSE: 0.1967\n",
      "Runtime del experimento 13: 15.5841\n",
      "---------------------------------\n",
      "Experimento 14\n",
      "Error del modelo RMSE: 0.1977\n",
      "Runtime del experimento 14: 15.5947\n",
      "---------------------------------\n",
      "Experimento 15\n",
      "Error del modelo RMSE: 0.2112\n",
      "Runtime del experimento 15: 16.7680\n",
      "---------------------------------\n",
      "Experimento 16\n",
      "Error del modelo RMSE: 0.2001\n",
      "Runtime del experimento 16: 16.4743\n",
      "---------------------------------\n",
      "Experimento 17\n",
      "Error del modelo RMSE: 0.1928\n",
      "Runtime del experimento 17: 16.1016\n",
      "---------------------------------\n",
      "Experimento 18\n",
      "Error del modelo RMSE: 0.2045\n",
      "Runtime del experimento 18: 15.9252\n",
      "---------------------------------\n",
      "Experimento 19\n",
      "Error del modelo RMSE: 0.1959\n",
      "Runtime del experimento 19: 17.4721\n",
      "---------------------------------\n",
      "Experimento 20\n",
      "Error del modelo RMSE: 0.2093\n",
      "Runtime del experimento 20: 17.4873\n",
      "---------------------------------\n",
      "Experimento 21\n",
      "Error del modelo RMSE: 0.1915\n",
      "Runtime del experimento 21: 16.7522\n",
      "---------------------------------\n",
      "Experimento 22\n",
      "Error del modelo RMSE: 0.1930\n",
      "Runtime del experimento 22: 16.0155\n",
      "---------------------------------\n",
      "Experimento 23\n",
      "Error del modelo RMSE: 0.1964\n",
      "Runtime del experimento 23: 15.8673\n",
      "---------------------------------\n",
      "Experimento 24\n",
      "Error del modelo RMSE: 0.2051\n",
      "Runtime del experimento 24: 15.8826\n",
      "---------------------------------\n",
      "Experimento 25\n",
      "Error del modelo RMSE: 0.2014\n",
      "Runtime del experimento 25: 15.9679\n",
      "---------------------------------\n",
      "Experimento 26\n",
      "Error del modelo RMSE: 0.1925\n",
      "Runtime del experimento 26: 15.7547\n",
      "---------------------------------\n",
      "Experimento 27\n",
      "Error del modelo RMSE: 0.1995\n",
      "Runtime del experimento 27: 16.3310\n",
      "---------------------------------\n",
      "Experimento 28\n",
      "Error del modelo RMSE: 0.1942\n",
      "Runtime del experimento 28: 16.1490\n",
      "---------------------------------\n",
      "Experimento 29\n",
      "Error del modelo RMSE: 0.2071\n",
      "Runtime del experimento 29: 15.8507\n",
      "---------------------------------\n",
      "Experimento 30\n",
      "Error del modelo RMSE: 0.2086\n",
      "Runtime del experimento 30: 15.6493\n",
      "---------------------------------\n",
      "---------------------------------\n",
      "Runtime: 484.06771636009216\n",
      "Mean(RMSE) = 0.1998, Std(RMSE) = 0.0052\n"
     ]
    }
   ],
   "source": [
    "errors, min_error, min_pred, min_scores = best_scores(train, test, 7, epochs = 70, neurons_lstm = 128, \n",
    "                                                      neurons_dense = 150, batch = 16)\n",
    "print(\"Mean(RMSE) = %.4f, Std(RMSE) = %.4f\" % (np.mean(errors),np.std(errors)))"
   ]
  },
  {
   "cell_type": "code",
   "execution_count": 162,
   "id": "dcb0c050",
   "metadata": {},
   "outputs": [
    {
     "name": "stdout",
     "output_type": "stream",
     "text": [
      "Corriendo el modelo LSTM\n",
      "Epochs: 70, Neurons_lstm: 128, Neurons_dense: 100, Batch Size: 16\n",
      "===================\n",
      "Experimento 1\n",
      "Error del modelo RMSE: 127.6942\n",
      "Runtime del experimento 1: 30.1137\n",
      "---------------------------------\n",
      "Experimento 2\n",
      "Error del modelo RMSE: 97.3601\n",
      "Runtime del experimento 2: 30.0994\n",
      "---------------------------------\n",
      "Experimento 3\n",
      "Error del modelo RMSE: 101.4418\n",
      "Runtime del experimento 3: 34.9549\n",
      "---------------------------------\n",
      "Experimento 4\n",
      "Error del modelo RMSE: 126.4324\n",
      "Runtime del experimento 4: 32.8888\n",
      "---------------------------------\n",
      "Experimento 5\n",
      "Error del modelo RMSE: 115.1776\n",
      "Runtime del experimento 5: 36.2958\n",
      "---------------------------------\n",
      "Experimento 6\n",
      "Error del modelo RMSE: 78.5678\n",
      "Runtime del experimento 6: 38.7873\n",
      "---------------------------------\n",
      "Experimento 7\n",
      "Error del modelo RMSE: 98.0776\n",
      "Runtime del experimento 7: 32.0097\n",
      "---------------------------------\n",
      "Experimento 8\n",
      "Error del modelo RMSE: 74.9819\n",
      "Runtime del experimento 8: 34.6581\n",
      "---------------------------------\n",
      "Experimento 9\n",
      "Error del modelo RMSE: 96.8244\n",
      "Runtime del experimento 9: 35.1347\n",
      "---------------------------------\n",
      "Experimento 10\n",
      "Error del modelo RMSE: 159.1567\n",
      "Runtime del experimento 10: 34.2875\n",
      "---------------------------------\n",
      "Experimento 11\n",
      "Error del modelo RMSE: 120.6965\n",
      "Runtime del experimento 11: 29.5310\n",
      "---------------------------------\n",
      "Experimento 12\n",
      "Error del modelo RMSE: 119.4789\n",
      "Runtime del experimento 12: 32.2343\n",
      "---------------------------------\n",
      "Experimento 13\n",
      "Error del modelo RMSE: 120.9689\n",
      "Runtime del experimento 13: 32.4443\n",
      "---------------------------------\n",
      "Experimento 14\n",
      "Error del modelo RMSE: 121.6343\n",
      "Runtime del experimento 14: 33.5145\n",
      "---------------------------------\n",
      "Experimento 15\n",
      "Error del modelo RMSE: 85.7201\n",
      "Runtime del experimento 15: 37.9167\n",
      "---------------------------------\n",
      "Experimento 16\n",
      "Error del modelo RMSE: 82.1374\n",
      "Runtime del experimento 16: 41.5073\n",
      "---------------------------------\n",
      "Experimento 17\n",
      "Error del modelo RMSE: 207.9487\n",
      "Runtime del experimento 17: 42.2929\n",
      "---------------------------------\n",
      "Experimento 18\n",
      "Error del modelo RMSE: 193.4571\n",
      "Runtime del experimento 18: 37.9420\n",
      "---------------------------------\n",
      "Experimento 19\n",
      "Error del modelo RMSE: 147.2506\n",
      "Runtime del experimento 19: 43.3423\n",
      "---------------------------------\n",
      "Experimento 20\n",
      "Error del modelo RMSE: 99.5401\n",
      "Runtime del experimento 20: 42.8115\n",
      "---------------------------------\n",
      "Experimento 21\n",
      "Error del modelo RMSE: 73.3722\n",
      "Runtime del experimento 21: 42.0480\n",
      "---------------------------------\n",
      "Experimento 22\n",
      "Error del modelo RMSE: 180.9424\n",
      "Runtime del experimento 22: 37.8238\n",
      "---------------------------------\n",
      "Experimento 23\n",
      "Error del modelo RMSE: 134.0570\n",
      "Runtime del experimento 23: 39.5947\n",
      "---------------------------------\n",
      "Experimento 24\n",
      "Error del modelo RMSE: 225.3289\n",
      "Runtime del experimento 24: 39.0266\n",
      "---------------------------------\n",
      "Experimento 25\n",
      "Error del modelo RMSE: 120.2997\n",
      "Runtime del experimento 25: 44.5220\n",
      "---------------------------------\n",
      "Experimento 26\n",
      "Error del modelo RMSE: 128.8754\n",
      "Runtime del experimento 26: 42.1875\n",
      "---------------------------------\n",
      "Experimento 27\n",
      "Error del modelo RMSE: 107.6357\n",
      "Runtime del experimento 27: 38.1139\n",
      "---------------------------------\n",
      "Experimento 28\n",
      "Error del modelo RMSE: 90.7421\n",
      "Runtime del experimento 28: 29.9845\n",
      "---------------------------------\n",
      "Experimento 29\n",
      "Error del modelo RMSE: 85.1677\n",
      "Runtime del experimento 29: 34.1382\n",
      "---------------------------------\n",
      "Experimento 30\n",
      "Error del modelo RMSE: 167.1907\n",
      "Runtime del experimento 30: 38.5288\n",
      "---------------------------------\n",
      "---------------------------------\n",
      "Runtime: 1098.7348086833954\n"
     ]
    }
   ],
   "source": [
    "# univariate multi-step encoder-decoder convlstm\n",
    "from math import sqrt\n",
    "from numpy import split\n",
    "from numpy import array\n",
    "from pandas import read_csv\n",
    "from sklearn.metrics import mean_squared_error\n",
    "from matplotlib import pyplot\n",
    "from keras.models import Sequential\n",
    "from keras.layers import Dense\n",
    "from keras.layers import Flatten\n",
    "from keras.layers import LSTM\n",
    "from keras.layers import RepeatVector\n",
    "from keras.layers import TimeDistributed\n",
    "from keras.layers import ConvLSTM2D\n",
    "\n",
    "# evaluate one or more weekly forecasts against expected values\n",
    "def evaluate_forecasts(actual, predicted):\n",
    "\tscores = list()\n",
    "\t# calculate an RMSE score for each day\n",
    "\tfor i in range(actual.shape[1]):\n",
    "\t\t# calculate mse\n",
    "\t\tmse = mean_squared_error(actual[:, i], predicted[:, i])\n",
    "\t\t# calculate rmse\n",
    "\t\trmse = sqrt(mse)\n",
    "\t\t# store\n",
    "\t\tscores.append(rmse)\n",
    "\t# calculate overall RMSE\n",
    "\ts = 0\n",
    "\tfor row in range(actual.shape[0]):\n",
    "\t\tfor col in range(actual.shape[1]):\n",
    "\t\t\ts += (actual[row, col] - predicted[row, col])**2\n",
    "\tscore = sqrt(s / (actual.shape[0] * actual.shape[1]))\n",
    "\treturn score, scores\n",
    "\n",
    "# summarize scores\n",
    "def summarize_scores(name, score, scores):\n",
    "\ts_scores = ', '.join(['%.1f' % s for s in scores])\n",
    "\tprint('%s: [%.3f] %s' % (name, score, s_scores))\n",
    "\n",
    "# train the model\n",
    "def build_model(train, n_steps, n_length, n_input):\n",
    "\t# prepare data\n",
    "\ttrain_x, train_y = series_split_multi(train, n_input, n_input)\n",
    "\t# define parameters\n",
    "\tverbose, epochs, batch_size = 0, 70, 16\n",
    "\tn_timesteps, n_features, n_outputs = train_x.shape[1], train_x.shape[2], train_y.shape[1]\n",
    "\t# reshape into subsequences [samples, time steps, rows, cols, channels]\n",
    "\ttrain_x = train_x.reshape((train_x.shape[0], n_steps, 1, n_length, n_features))\n",
    "\t# reshape output into [samples, timesteps, features]\n",
    "\ttrain_y = train_y.reshape((train_y.shape[0], train_y.shape[1], 1))\n",
    "\t# define model\n",
    "\tmodel = Sequential()\n",
    "\tmodel.add(ConvLSTM2D(filters=64, kernel_size=(1,3), activation='relu', input_shape=(n_steps, 1, n_length, n_features)))\n",
    "\tmodel.add(Flatten())\n",
    "\tmodel.add(RepeatVector(n_outputs))\n",
    "\tmodel.add(LSTM(128, activation='relu', return_sequences=True))\n",
    "\tmodel.add(TimeDistributed(Dense(100, activation='relu')))\n",
    "\tmodel.add(TimeDistributed(Dense(1)))\n",
    "\tmodel.compile(loss='mse', optimizer='adam')\n",
    "\t# fit network\n",
    "\th = model.fit(train_x, train_y, epochs=epochs, batch_size=batch_size, verbose=verbose)\n",
    "\treturn model\n",
    "\n",
    "# make a forecast\n",
    "def forecast(model, history, n_steps, n_length, n_input):\n",
    "\t# flatten data\n",
    "\tdata = array(history)\n",
    "\tdata = data.reshape((data.shape[0]*data.shape[1]))\n",
    "\t# retrieve last observations for input data\n",
    "\tinput_x = data[-n_input:]\n",
    "\t# reshape into [samples, time steps, rows, cols, channels]\n",
    "\tinput_x = input_x.reshape((1, n_steps, 1, n_length, 1))\n",
    "\t# forecast the next week\n",
    "\tyhat = model.predict(input_x, verbose=0)\n",
    "\t# we only want the vector forecast\n",
    "\tyhat = yhat[0]\n",
    "\treturn yhat\n",
    "\n",
    "# evaluate a single model\n",
    "def evaluate_model(train, test, n_input, n_steps = 1, n_length = 7):\n",
    "\t# fit model\n",
    "\tmodel = build_model(train, n_steps, n_length, n_input)\n",
    "\t# history is a list of weekly data\n",
    "\thistory = [x for x in train]\n",
    "\t# walk-forward validation over each week\n",
    "\tpredictions = list()\n",
    "\tfor i in range(len(test)):\n",
    "\t\t# predict the week\n",
    "\t\tyhat_sequence = forecast(model, history, n_steps, n_length, n_input)\n",
    "\t\t# store the predictions\n",
    "\t\tpredictions.append(yhat_sequence)\n",
    "\t\t# get real observation and add to history for predicting the next week\n",
    "\t\thistory.append(test[i, :])\n",
    "\t# evaluate predictions days for each week\n",
    "\tpredictions = array(predictions)\n",
    "\tscore, scores = evaluate_forecasts(test[:, :], predictions)\n",
    "\treturn score, scores, predictions\n",
    "\n",
    "# define the number of subsequences and the length of subsequences\n",
    "n_steps, n_length = 1, 7\n",
    "# define the total days to use as input\n",
    "n_input = n_length * n_steps\n",
    "#score, scores, predictions = evaluate_model(train, test, n_steps, n_length, n_input)\n",
    "rmse, min_error, min_pred, min_scores = best_scores(train,test,n_input, epochs = 70, neurons_lstm = 128, \n",
    "                                                    neurons_dense = 100, batch = 16)\n",
    "# summarize scores\n",
    "#summarize_scores('lstm', score, scores)\n",
    "# plot scores\n",
    "#days = ['sun', 'mon', 'tue', 'wed', 'thr', 'fri', 'sat']\n",
    "#pyplot.plot(days, scores, marker='o', label='lstm')\n",
    "#pyplot.show()"
   ]
  },
  {
   "cell_type": "code",
   "execution_count": 68,
   "id": "eaba365f",
   "metadata": {},
   "outputs": [],
   "source": [
    "predictions = min_pred.reshape((min_pred.shape[0]*min_pred.shape[1]))\n",
    "#predictions = casos_sma[1]+np.cumsum(predictions)\n",
    "predic_lstm = pd.Series(predictions, index = series[-n_test:].index)"
   ]
  },
  {
   "cell_type": "code",
   "execution_count": 69,
   "id": "2a0ab7b7",
   "metadata": {},
   "outputs": [
    {
     "data": {
      "text/plain": [
       "<matplotlib.legend.Legend at 0x1d8afb05040>"
      ]
     },
     "execution_count": 69,
     "metadata": {},
     "output_type": "execute_result"
    },
    {
     "data": {
      "image/png": "[encoded data removed]",
      "text/plain": [
       "<Figure size 560x400 with 1 Axes>"
      ]
     },
     "metadata": {
      "needs_background": "light"
     },
     "output_type": "display_data"
    }
   ],
   "source": [
    "plt.figure(figsize=(7,5),dpi=80)\n",
    "plt.title(f\"Tercera ola de casos en Nuevo León\")#. RMSE = %.3f\" % min_error, fontsize = 13)\n",
    "plt.ylabel(\"Casos confirmados diarios\")\n",
    "series[-40:].plot(label = \"Promedio de 7 días\")\n",
    "predic_lstm.plot(label = \"LSTM\")\n",
    "plt.legend()"
   ]
  },
  {
   "cell_type": "code",
   "execution_count": 145,
   "id": "503957de",
   "metadata": {},
   "outputs": [
    {
     "data": {
      "text/plain": [
       "58.410168137153825"
      ]
     },
     "execution_count": 145,
     "metadata": {},
     "output_type": "execute_result"
    }
   ],
   "source": [
    "np.sqrt(mean_squared_error(series[-n_test:],predic_lstm))"
   ]
  },
  {
   "cell_type": "code",
   "execution_count": 146,
   "id": "90c613a4",
   "metadata": {},
   "outputs": [
    {
     "data": {
      "text/plain": [
       "42.983270761918064"
      ]
     },
     "execution_count": 146,
     "metadata": {},
     "output_type": "execute_result"
    }
   ],
   "source": [
    "mean_absolute_error(series[-n_test:], predic_lstm)"
   ]
  },
  {
   "cell_type": "code",
   "execution_count": 147,
   "id": "255ab750",
   "metadata": {},
   "outputs": [
    {
     "data": {
      "text/plain": [
       "0.018306380239038883"
      ]
     },
     "execution_count": 147,
     "metadata": {},
     "output_type": "execute_result"
    }
   ],
   "source": [
    "mean_absolute_percentage_error(series[-n_test:], predic_lstm)"
   ]
  },
  {
   "cell_type": "code",
   "execution_count": 148,
   "id": "f13e1715",
   "metadata": {},
   "outputs": [
    {
     "data": {
      "text/plain": [
       "0.018251266841324897"
      ]
     },
     "execution_count": 148,
     "metadata": {},
     "output_type": "execute_result"
    }
   ],
   "source": [
    "smape(series[-n_test:], predic_lstm)"
   ]
  },
  {
   "cell_type": "code",
   "execution_count": 149,
   "id": "9d88571e",
   "metadata": {},
   "outputs": [
    {
     "data": {
      "text/plain": [
       "0.912774773102091"
      ]
     },
     "execution_count": 149,
     "metadata": {},
     "output_type": "execute_result"
    }
   ],
   "source": [
    "r2_score(series[-n_test:], predic_lstm)"
   ]
  },
  {
   "cell_type": "code",
   "execution_count": 62,
   "id": "0dd0ab04",
   "metadata": {},
   "outputs": [],
   "source": [
    "#plt.plot(['Ma','Mie','Jue','Vie','Sab','Dom','Lun'],min_scores)"
   ]
  },
  {
   "cell_type": "code",
   "execution_count": 61,
   "id": "249be52c",
   "metadata": {},
   "outputs": [
    {
     "name": "stdout",
     "output_type": "stream",
     "text": [
      "(81, 7)\n",
      "1.0 280.14285714285717\n",
      "(4, 7)\n",
      "272.0 120.0\n"
     ]
    }
   ],
   "source": [
    "train_m, test_m = split_weeks(muertes_sma[:-2])\n",
    "print(train_m.shape)\n",
    "print(train_m[0, 0], train_m[-1, -1])\n",
    "# validate test\n",
    "print(test_m.shape)\n",
    "print(test_m[0, 0], test_m[-1, -1])"
   ]
  },
  {
   "cell_type": "code",
   "execution_count": 62,
   "id": "7f76a54b",
   "metadata": {},
   "outputs": [],
   "source": [
    "errors, min_error_m, min_pred_m, min_scores_m = best_scores(train_m, test_m, 2)"
   ]
  },
  {
   "cell_type": "code",
   "execution_count": 65,
   "id": "916adc6b",
   "metadata": {},
   "outputs": [],
   "source": [
    "predict_m = min_pred_m.reshape((min_pred_m.shape[0]*min_pred_m.shape[1]))\n",
    "#predictions = casos_sma[1]+np.cumsum(predictions)\n",
    "predic_m = pd.Series(predict_m, index = casos_sma[:-1][-28:].index)"
   ]
  },
  {
   "cell_type": "code",
   "execution_count": 79,
   "id": "2bae171a",
   "metadata": {},
   "outputs": [
    {
     "data": {
      "text/plain": [
       "<matplotlib.legend.Legend at 0x20731df5a60>"
      ]
     },
     "execution_count": 79,
     "metadata": {},
     "output_type": "execute_result"
    },
    {
     "data": {
      "image/png": "[encoded data removed]",
      "text/plain": [
       "<Figure size 700x500 with 1 Axes>"
      ]
     },
     "metadata": {
      "needs_background": "light"
     },
     "output_type": "display_data"
    }
   ],
   "source": [
    "plt.figure(figsize=(7,5),dpi=100)\n",
    "plt.title(f\"Tercera ola de muertes con LSTM. RMSE = %.3f\" % min_error_m, fontsize = 13)\n",
    "plt.ylabel(\"Muertes\")\n",
    "muertes_sma[-50:-1].plot()\n",
    "predic_m.plot(label = \"Predicción\")\n",
    "plt.legend()"
   ]
  },
  {
   "cell_type": "code",
   "execution_count": 68,
   "id": "67ee7648",
   "metadata": {},
   "outputs": [
    {
     "data": {
      "text/plain": [
       "5.97611174291494"
      ]
     },
     "execution_count": 68,
     "metadata": {},
     "output_type": "execute_result"
    }
   ],
   "source": [
    "mean_absolute_error(predic_m,muertes_sma[:-2][-28:])"
   ]
  },
  {
   "cell_type": "code",
   "execution_count": 78,
   "id": "b8376309",
   "metadata": {},
   "outputs": [
    {
     "data": {
      "text/plain": [
       "0.03208361023810324"
      ]
     },
     "execution_count": 78,
     "metadata": {},
     "output_type": "execute_result"
    }
   ],
   "source": [
    "mean_absolute_percentage_error(predic_m,muertes_sma[:-2][-28:])"
   ]
  },
  {
   "cell_type": "code",
   "execution_count": 83,
   "id": "a7ac743b",
   "metadata": {},
   "outputs": [
    {
     "data": {
      "text/plain": [
       "0.9659534022953284"
      ]
     },
     "execution_count": 83,
     "metadata": {},
     "output_type": "execute_result"
    }
   ],
   "source": [
    "r2_score(predic_m,muertes_sma[:-2][-28:])"
   ]
  },
  {
   "cell_type": "code",
   "execution_count": 110,
   "id": "73622a86",
   "metadata": {},
   "outputs": [
    {
     "data": {
      "text/plain": [
       "[<matplotlib.lines.Line2D at 0x1b30642c760>]"
      ]
     },
     "execution_count": 110,
     "metadata": {},
     "output_type": "execute_result"
    },
    {
     "data": {
      "image/png": "[encoded data removed]",
      "text/plain": [
       "<Figure size 432x288 with 1 Axes>"
      ]
     },
     "metadata": {
      "needs_background": "light"
     },
     "output_type": "display_data"
    }
   ],
   "source": [
    "plt.plot(['Ma','Mie','Jue','Vie','Sab','Dom','Lun'],min_scores_m)"
   ]
  },
  {
   "cell_type": "markdown",
   "id": "cebe8644",
   "metadata": {},
   "source": [
    "Analizando los casos por estado"
   ]
  },
  {
   "cell_type": "code",
   "execution_count": 45,
   "id": "49f2ee8a",
   "metadata": {},
   "outputs": [],
   "source": [
    "error = []\n",
    "predicciones = pd.DataFrame()\n",
    "for i in range(32):\n",
    "    casos_estado = datos_total.iloc[[i]]\n",
    "    casos_estado = pd.melt(casos_estado, var_name = \"Fecha\", value_name = \"Casos\")\n",
    "    casos_estado[\"Fecha\"] = pd.to_datetime(casos_estado[\"Fecha\"])\n",
    "    casos_estado = casos_estado.set_index(\"Fecha\")\n",
    "    casos_estado = casos_estado[\"Casos\"]\n",
    "    estado_sma = casos_estado.rolling(window = 7).mean().dropna()[:-1]\n",
    "    # Dividir los datos en train y test\n",
    "    train, test = split_weeks(estado_sma[:-8])\n",
    "    \n",
    "    # Hacemos predicciones utilizando LSTM\n",
    "    errors, min_error, min_pred, min_scores = best_scores(train, test, 7)\n",
    "    predictions = min_pred.reshape((min_pred.shape[0]*min_pred.shape[1]))\n",
    "    #predictions = casos_sma[1]+np.cumsum(predictions)\n",
    "    predic = pd.Series(predictions, index = estado_sma[:-8][-28:].index)\n",
    "    \n",
    "    #Guardamos las predicciones en un DataFrame y los errores también\n",
    "    predicciones[names[i]] = predic\n",
    "    error.append(min_error)"
   ]
  },
  {
   "cell_type": "code",
   "execution_count": 18,
   "id": "3d870b6e",
   "metadata": {},
   "outputs": [
    {
     "ename": "NameError",
     "evalue": "name 'predicciones' is not defined",
     "output_type": "error",
     "traceback": [
      "\u001b[1;31m---------------------------------------------------------------------------\u001b[0m",
      "\u001b[1;31mNameError\u001b[0m                                 Traceback (most recent call last)",
      "\u001b[1;32m<ipython-input-18-b12ebcd31f91>\u001b[0m in \u001b[0;36m<module>\u001b[1;34m\u001b[0m\n\u001b[1;32m----> 1\u001b[1;33m \u001b[0mpredicciones\u001b[0m\u001b[1;33m\u001b[0m\u001b[1;33m\u001b[0m\u001b[0m\n\u001b[0m",
      "\u001b[1;31mNameError\u001b[0m: name 'predicciones' is not defined"
     ]
    }
   ],
   "source": [
    "predicciones"
   ]
  },
  {
   "cell_type": "code",
   "execution_count": 127,
   "id": "9332cb68",
   "metadata": {},
   "outputs": [],
   "source": [
    "error_rmse = np.zeros(32)\n",
    "for i in range(32):\n",
    "    casos_estado = datos_total.iloc[[i]]\n",
    "    casos_estado = pd.melt(casos_estado, var_name = \"Fecha\", value_name = \"Casos\")\n",
    "    casos_estado[\"Fecha\"] = pd.to_datetime(casos_estado[\"Fecha\"])\n",
    "    casos_estado = casos_estado.set_index(\"Fecha\")\n",
    "    casos_estado = casos_estado[\"Casos\"]\n",
    "    estado_sma = casos_estado.rolling(window = 7).mean().dropna()[:-1]\n",
    "    error_rmse[i] = np.sqrt(mean_squared_error(predicciones.iloc[:,i],estado_sma[:-8][-28:]))"
   ]
  },
  {
   "cell_type": "code",
   "execution_count": 132,
   "id": "1a362649",
   "metadata": {},
   "outputs": [
    {
     "data": {
      "text/plain": [
       "13.224900477644791"
      ]
     },
     "execution_count": 132,
     "metadata": {},
     "output_type": "execute_result"
    }
   ],
   "source": [
    "np.mean(error_rmse)"
   ]
  },
  {
   "cell_type": "markdown",
   "id": "711b9afb",
   "metadata": {},
   "source": [
    "## LSTM vanila with prediction intervals"
   ]
  },
  {
   "cell_type": "code",
   "execution_count": 94,
   "id": "a23723af",
   "metadata": {},
   "outputs": [
    {
     "data": {
      "text/plain": [
       "((595, 7, 1), (595, 1))"
      ]
     },
     "execution_count": 94,
     "metadata": {},
     "output_type": "execute_result"
    }
   ],
   "source": [
    "train_x, train_y = series_split_multi(train, 7, 1)\n",
    "train_x.shape, train_y.shape "
   ]
  },
  {
   "cell_type": "code",
   "execution_count": 155,
   "id": "e1cf5ceb",
   "metadata": {},
   "outputs": [],
   "source": [
    "# train the model\n",
    "def build_model(train, n_input):\n",
    "    #prepare data\n",
    "    train_x, train_y = series_split_multi(train, n_input, 1)\n",
    "    # define parameters\n",
    "    n_timesteps, n_features, n_outputs = train_x.shape[1], train_x.shape[2], train_y.shape[1]\n",
    "    verbose, epochs, batch_size = 0, 70, 16\n",
    "    # define model\n",
    "    model = Sequential()\n",
    "    model.add(LSTM(80, activation='relu', input_shape=(n_timesteps, n_features)))\n",
    "    model.add(Dense(50, activation='relu'))\n",
    "    model.add(Dense(n_outputs))\n",
    "    model.compile(loss='mse', optimizer='adam')\n",
    "    # fit network\n",
    "    model.fit(train_x, train_y, epochs=epochs, batch_size=batch_size, verbose=verbose)\n",
    "    return model\n",
    "\n",
    "# Forecast\n",
    "def forecast(model,data, n_input):\n",
    "    input_x = data[-n_input:]\n",
    "    input_x = input_x.reshape((1,len(input_x),1))\n",
    "    # forecast the next week\n",
    "    yhat = model.predict(input_x, verbose=0)\n",
    "    # we only want the vector forecast\n",
    "    yhat = yhat[0,0]\n",
    "    return yhat    "
   ]
  },
  {
   "cell_type": "code",
   "execution_count": 177,
   "id": "1eed9f6a",
   "metadata": {},
   "outputs": [],
   "source": [
    "# Function to evaluate to the model\n",
    "def evaluate_model(train, test, n_input):\n",
    "    #History in weekly data\n",
    "    history = [x for x in train]\n",
    "    pred_mean = []\n",
    "    pred_std = []\n",
    "    for i in range(len(test)):\n",
    "        data = np.array(history)\n",
    "        data = data.reshape(data.shape[0]*data.shape[1])\n",
    "        for j in range(len(test[i])):\n",
    "            yhat = []\n",
    "            for k in range(10):\n",
    "                #Train the model\n",
    "                model = build_model(train,n_input)\n",
    "                yhat.append(forecast(model,data,n_input))\n",
    "            pred_mean.append(np.mean(yhat))\n",
    "            pred_std.append(np.std(yhat))\n",
    "            np.append(data,np.mean(yhat))         \n",
    "        history.append(test[i,:])\n",
    "    return pred_mean, pred_std"
   ]
  },
  {
   "cell_type": "code",
   "execution_count": 178,
   "id": "890cc09f",
   "metadata": {},
   "outputs": [],
   "source": [
    "y_mean, y_std = evaluate_model(train, test, 7)"
   ]
  },
  {
   "cell_type": "code",
   "execution_count": 179,
   "id": "df3d9503",
   "metadata": {},
   "outputs": [],
   "source": [
    "predic_lstm = pd.Series(y_mean, index = casos_sma[:-8][-28:].index)"
   ]
  },
  {
   "cell_type": "code",
   "execution_count": 180,
   "id": "33f8ff96",
   "metadata": {},
   "outputs": [],
   "source": [
    "upper, lower = predic_lstm + (1.96)*np.array(y_std), predic_lstm - (1.96)*np.array(y_std) "
   ]
  },
  {
   "cell_type": "code",
   "execution_count": 181,
   "id": "a25c156d",
   "metadata": {},
   "outputs": [
    {
     "data": {
      "text/plain": [
       "<matplotlib.legend.Legend at 0x24b3902dee0>"
      ]
     },
     "execution_count": 181,
     "metadata": {},
     "output_type": "execute_result"
    },
    {
     "data": {
      "image/png": "[encoded data removed]",
      "text/plain": [
       "<Figure size 700x500 with 1 Axes>"
      ]
     },
     "metadata": {
      "needs_background": "light"
     },
     "output_type": "display_data"
    }
   ],
   "source": [
    "plt.figure(figsize=(7,5),dpi=100)\n",
    "plt.title(f\"Tercera ola de casos con LSTM. RMSE = %.3f\" % min_error, fontsize = 13)\n",
    "plt.ylabel(\"Casos\")\n",
    "casos_sma[-50:-resta].plot(label = \"Promedio de 7 días\")\n",
    "predic_lstm.plot(label = \"Predicción\")\n",
    "upper.plot()\n",
    "lower.plot()\n",
    "plt.legend()"
   ]
  },
  {
   "cell_type": "code",
   "execution_count": 161,
   "id": "e4d1e52e",
   "metadata": {},
   "outputs": [],
   "source": [
    "yhat = []\n",
    "for k in range(2):\n",
    "    model = build_model(train,7)\n",
    "    data = test\n",
    "    data = data.reshape(data.shape[0]*data.shape[1])\n",
    "    input_x = data[-7:]\n",
    "    input_x = input_x.reshape(1,7,1)\n",
    "    y = model.predict(input_x)\n",
    "    yhat.append(y[0,0])"
   ]
  },
  {
   "cell_type": "code",
   "execution_count": 162,
   "id": "1fb11bcd",
   "metadata": {},
   "outputs": [
    {
     "data": {
      "text/plain": [
       "[2399.0747, 2348.0696]"
      ]
     },
     "execution_count": 162,
     "metadata": {},
     "output_type": "execute_result"
    }
   ],
   "source": [
    "yhat"
   ]
  },
  {
   "cell_type": "markdown",
   "id": "6e724df1",
   "metadata": {},
   "source": [
    "# Modelo ARIMA"
   ]
  },
  {
   "cell_type": "code",
   "execution_count": 70,
   "id": "36b41537",
   "metadata": {},
   "outputs": [],
   "source": [
    "from pmdarima import auto_arima"
   ]
  },
  {
   "cell_type": "code",
   "execution_count": 71,
   "id": "096a2a28",
   "metadata": {},
   "outputs": [],
   "source": [
    "start = 28\n",
    "periods = 7\n",
    "pred = []\n",
    "error = []\n",
    "coef_int = []\n",
    "#series = datos_sma[\"CHIAPAS\"][:-29]\n",
    "for i in range(int(start/periods)):\n",
    "    model_arima = auto_arima(series[:-start+i*periods], seasonal = False)\n",
    "    predictions, coefs_int = model_arima.predict(n_periods = periods, return_conf_int=True, alpha = 0.01)\n",
    "    order = model_arima.get_params()['order']\n",
    "    pred.append(predictions)\n",
    "    coef_int.append(coefs_int)"
   ]
  },
  {
   "cell_type": "code",
   "execution_count": 72,
   "id": "de45409c",
   "metadata": {},
   "outputs": [
    {
     "data": {
      "text/plain": [
       "(array([0.93507243]), array([-0.48635935, -0.15280756]))"
      ]
     },
     "execution_count": 72,
     "metadata": {},
     "output_type": "execute_result"
    }
   ],
   "source": [
    "model_arima.arparams(),model_arima.maparams()"
   ]
  },
  {
   "cell_type": "code",
   "execution_count": 73,
   "id": "3e21b5dd",
   "metadata": {},
   "outputs": [
    {
     "data": {
      "text/plain": [
       "(665,)"
      ]
     },
     "execution_count": 73,
     "metadata": {},
     "output_type": "execute_result"
    }
   ],
   "source": [
    "np.shape(model_arima.resid())"
   ]
  },
  {
   "cell_type": "code",
   "execution_count": 74,
   "id": "604f3be2",
   "metadata": {},
   "outputs": [],
   "source": [
    "pred = np.array(pred)\n",
    "predic = pred.reshape(pred.shape[0]*pred.shape[1])\n",
    "pred_arima1 = pd.Series(predic, index = series[-start:].index)\n",
    "\n",
    "coef_int = np.array(coef_int)\n",
    "inter = coef_int.reshape(coef_int.shape[0]*coef_int.shape[1],coef_int.shape[2])"
   ]
  },
  {
   "cell_type": "code",
   "execution_count": 75,
   "id": "433522c0",
   "metadata": {},
   "outputs": [],
   "source": [
    "inter_up = pd.Series(inter[:,0], index = series[-start:].index)\n",
    "inter_low = pd.Series(inter[:,1], index = series[-start:].index)"
   ]
  },
  {
   "cell_type": "code",
   "execution_count": 76,
   "id": "12570c1e",
   "metadata": {
    "scrolled": false
   },
   "outputs": [
    {
     "data": {
      "text/plain": [
       "<matplotlib.legend.Legend at 0x1d8b2fce340>"
      ]
     },
     "execution_count": 76,
     "metadata": {},
     "output_type": "execute_result"
    },
    {
     "data": {
      "image/png": "[encoded data removed]",
      "text/plain": [
       "<Figure size 700x500 with 1 Axes>"
      ]
     },
     "metadata": {
      "needs_background": "light"
     },
     "output_type": "display_data"
    }
   ],
   "source": [
    "plt.figure(figsize=(7,5),dpi=100)\n",
    "plt.title(f\"Tercera ola de casos con ARIMA{order}\", fontsize = 13)\n",
    "plt.ylabel(\"Casos\")\n",
    "series[-40:].plot()\n",
    "pred_arima1.plot(label = \"Predicción\")\n",
    "#inter_up.plot()\n",
    "#inter_low.plot()\n",
    "plt.legend()"
   ]
  },
  {
   "cell_type": "code",
   "execution_count": 77,
   "id": "a7065c38",
   "metadata": {},
   "outputs": [
    {
     "data": {
      "text/plain": [
       "0.004272620960698199"
      ]
     },
     "execution_count": 77,
     "metadata": {},
     "output_type": "execute_result"
    }
   ],
   "source": [
    "np.sqrt(mean_squared_error(pred_arima1,series[-start:]))"
   ]
  },
  {
   "cell_type": "code",
   "execution_count": 78,
   "id": "8089f684",
   "metadata": {},
   "outputs": [
    {
     "data": {
      "text/plain": [
       "0.0022302087595157433"
      ]
     },
     "execution_count": 78,
     "metadata": {},
     "output_type": "execute_result"
    }
   ],
   "source": [
    "mean_absolute_error(pred_arima1,series[-start:])"
   ]
  },
  {
   "cell_type": "code",
   "execution_count": 79,
   "id": "0deae2ae",
   "metadata": {},
   "outputs": [
    {
     "data": {
      "text/plain": [
       "0.0022869981517929443"
      ]
     },
     "execution_count": 79,
     "metadata": {},
     "output_type": "execute_result"
    }
   ],
   "source": [
    "mean_absolute_percentage_error(pred_arima1,series[-start:])"
   ]
  },
  {
   "cell_type": "code",
   "execution_count": 80,
   "id": "de911142",
   "metadata": {},
   "outputs": [
    {
     "data": {
      "text/plain": [
       "0.0022775644756627537"
      ]
     },
     "execution_count": 80,
     "metadata": {},
     "output_type": "execute_result"
    }
   ],
   "source": [
    "smape(pred_arima1,series[-start:])"
   ]
  },
  {
   "cell_type": "code",
   "execution_count": 69,
   "id": "3ed0233e",
   "metadata": {},
   "outputs": [],
   "source": [
    "start = 28\n",
    "periods = 7\n",
    "pred = []\n",
    "error = []\n",
    "for i in range(int(start/periods)):\n",
    "    model_arima = auto_arima(muertes_sma[:-2][:-start+i*periods], seasonal = False)\n",
    "    predictions = model_arima.predict(n_periods = periods)\n",
    "    order = model_arima.get_params()['order']\n",
    "    pred.append(predictions)"
   ]
  },
  {
   "cell_type": "code",
   "execution_count": 70,
   "id": "7adce2c9",
   "metadata": {},
   "outputs": [],
   "source": [
    "pred = np.array(pred)\n",
    "predic_m1 = pred.reshape(pred.shape[0]*pred.shape[1])\n",
    "pred_arima_m = pd.Series(predic, index = muertes_sma[:-8][-28:].index)"
   ]
  },
  {
   "cell_type": "code",
   "execution_count": 71,
   "id": "2c7fb438",
   "metadata": {},
   "outputs": [],
   "source": [
    "pred_arima_m = pd.Series(predic_m1, index = muertes_sma[:-2][-28:].index)"
   ]
  },
  {
   "cell_type": "code",
   "execution_count": 76,
   "id": "3a6d17cf",
   "metadata": {},
   "outputs": [
    {
     "data": {
      "text/plain": [
       "<matplotlib.legend.Legend at 0x2072f47fb80>"
      ]
     },
     "execution_count": 76,
     "metadata": {},
     "output_type": "execute_result"
    },
    {
     "data": {
      "image/png": "[encoded data removed]",
      "text/plain": [
       "<Figure size 700x500 with 1 Axes>"
      ]
     },
     "metadata": {
      "needs_background": "light"
     },
     "output_type": "display_data"
    }
   ],
   "source": [
    "plt.figure(figsize=(7,5),dpi=100)\n",
    "plt.title(f\"Tercera ola de muertes con ARIMA{order}\", fontsize = 13)\n",
    "plt.ylabel(\"Muertes\")\n",
    "muertes_sma[-50:-2].plot()\n",
    "pred_arima_m.plot(label = \"Predicción\")\n",
    "plt.legend()"
   ]
  },
  {
   "cell_type": "code",
   "execution_count": 72,
   "id": "f099220e",
   "metadata": {},
   "outputs": [
    {
     "data": {
      "text/plain": [
       "11.19862704942933"
      ]
     },
     "execution_count": 72,
     "metadata": {},
     "output_type": "execute_result"
    }
   ],
   "source": [
    "np.sqrt(mean_squared_error(pred_arima_m,muertes_sma[:-2][-28:]))"
   ]
  },
  {
   "cell_type": "code",
   "execution_count": 77,
   "id": "19adfd0a",
   "metadata": {},
   "outputs": [
    {
     "data": {
      "text/plain": [
       "9.503409471501788"
      ]
     },
     "execution_count": 77,
     "metadata": {},
     "output_type": "execute_result"
    }
   ],
   "source": [
    "mean_absolute_error(pred_arima_m,muertes_sma[:-2][-28:])"
   ]
  },
  {
   "cell_type": "code",
   "execution_count": 81,
   "id": "3348ec0e",
   "metadata": {},
   "outputs": [
    {
     "data": {
      "text/plain": [
       "0.05343038234804392"
      ]
     },
     "execution_count": 81,
     "metadata": {},
     "output_type": "execute_result"
    }
   ],
   "source": [
    "mean_absolute_percentage_error(pred_arima_m,muertes_sma[:-2][-28:])"
   ]
  },
  {
   "cell_type": "code",
   "execution_count": 82,
   "id": "767f2439",
   "metadata": {},
   "outputs": [
    {
     "data": {
      "text/plain": [
       "0.9464527428445545"
      ]
     },
     "execution_count": 82,
     "metadata": {},
     "output_type": "execute_result"
    }
   ],
   "source": [
    "r2_score(pred_arima_m,muertes_sma[:-2][-28:])"
   ]
  },
  {
   "cell_type": "code",
   "execution_count": 125,
   "id": "e35915b7",
   "metadata": {},
   "outputs": [
    {
     "name": "stdout",
     "output_type": "stream",
     "text": [
      "Forecasting with ARIMA models using auto_arima\n",
      "----------------------------------------------\n",
      " \n",
      "Entrenando el Modelo para AGUASCALIENTES\n",
      "    Semana prediciendo la semana 0 ARIMA(4, 1, 3) ---> Error: 10.483611674679665\n",
      "    Semana prediciendo la semana 1 ARIMA(2, 1, 4) ---> Error: 16.949721124850182\n",
      "    Semana prediciendo la semana 2 ARIMA(2, 1, 5) ---> Error: 4.762471390311713\n",
      "    Semana prediciendo la semana 3 ARIMA(4, 1, 3) ---> Error: 12.946562989809765\n",
      " \n",
      "Entrenando el Modelo para BAJA CALIFORNIA\n",
      "    Semana prediciendo la semana 0 ARIMA(1, 1, 1) ---> Error: 28.9366273715507\n",
      "    Semana prediciendo la semana 1 ARIMA(1, 1, 1) ---> Error: 5.626993054409871\n",
      "    Semana prediciendo la semana 2 ARIMA(1, 1, 1) ---> Error: 49.55655238841448\n",
      "    Semana prediciendo la semana 3 ARIMA(4, 1, 5) ---> Error: 9.779560379111041\n",
      " \n",
      "Entrenando el Modelo para BAJA CALIFORNIA SUR\n",
      "    Semana prediciendo la semana 0 ARIMA(5, 1, 2) ---> Error: 1.9876452897050167\n",
      "    Semana prediciendo la semana 1 ARIMA(5, 1, 2) ---> Error: 1.1147959498262925\n",
      "    Semana prediciendo la semana 2 ARIMA(5, 1, 2) ---> Error: 2.739344868987921\n",
      "    Semana prediciendo la semana 3 ARIMA(5, 1, 2) ---> Error: 5.925797709178302\n",
      " \n",
      "Entrenando el Modelo para CAMPECHE\n",
      "    Semana prediciendo la semana 0 ARIMA(1, 1, 1) ---> Error: 5.472177762225574\n",
      "    Semana prediciendo la semana 1 ARIMA(1, 1, 1) ---> Error: 1.7451754370075672\n",
      "    Semana prediciendo la semana 2 ARIMA(1, 1, 1) ---> Error: 6.855457231016506\n",
      "    Semana prediciendo la semana 3 ARIMA(1, 1, 1) ---> Error: 2.7082594411548775\n",
      " \n",
      "Entrenando el Modelo para CHIAPAS\n",
      "    Semana prediciendo la semana 0 ARIMA(5, 1, 5) ---> Error: 2.5848043570119095\n",
      "    Semana prediciendo la semana 1 ARIMA(4, 1, 3) ---> Error: 3.375699118240725\n",
      "    Semana prediciendo la semana 2 ARIMA(4, 1, 3) ---> Error: 5.4365874379323476\n",
      "    Semana prediciendo la semana 3 ARIMA(4, 1, 3) ---> Error: 1.1758307135926989\n",
      " \n",
      "Entrenando el Modelo para CHIHUAHUA\n",
      "    Semana prediciendo la semana 0 ARIMA(2, 1, 5) ---> Error: 7.249985375297352\n",
      "    Semana prediciendo la semana 1 ARIMA(2, 1, 5) ---> Error: 8.864974679361326\n",
      "    Semana prediciendo la semana 2 ARIMA(2, 1, 5) ---> Error: 6.151583253302058\n",
      "    Semana prediciendo la semana 3 ARIMA(2, 1, 5) ---> Error: 6.9539161210117975\n",
      " \n",
      "Entrenando el Modelo para DISTRITO FEDERAL\n",
      "    Semana prediciendo la semana 0 ARIMA(4, 1, 5) ---> Error: 64.80599236146989\n",
      "    Semana prediciendo la semana 1 ARIMA(4, 1, 5) ---> Error: 8.570535063621602\n",
      "    Semana prediciendo la semana 2 ARIMA(4, 1, 5) ---> Error: 5.027354016595417\n",
      "    Semana prediciendo la semana 3 ARIMA(4, 1, 5) ---> Error: 27.718576793360956\n",
      " \n",
      "Entrenando el Modelo para COAHUILA\n",
      "    Semana prediciendo la semana 0 ARIMA(3, 1, 4) ---> Error: 6.093985234778355\n",
      "    Semana prediciendo la semana 1 ARIMA(3, 1, 4) ---> Error: 8.039722615666829\n",
      "    Semana prediciendo la semana 2 ARIMA(3, 1, 4) ---> Error: 2.148062745425506\n",
      "    Semana prediciendo la semana 3 ARIMA(3, 1, 4) ---> Error: 9.233456673250679\n",
      " \n",
      "Entrenando el Modelo para COLIMA\n",
      "    Semana prediciendo la semana 0 ARIMA(1, 1, 1) ---> Error: 9.071248875797641\n",
      "    Semana prediciendo la semana 1 ARIMA(1, 1, 1) ---> Error: 6.648793325116442\n",
      "    Semana prediciendo la semana 2 ARIMA(1, 1, 1) ---> Error: 11.637856840308991\n",
      "    Semana prediciendo la semana 3 ARIMA(1, 1, 1) ---> Error: 9.838961638740487\n",
      " \n",
      "Entrenando el Modelo para DURANGO\n",
      "    Semana prediciendo la semana 0 ARIMA(5, 1, 5) ---> Error: 10.97766881226097\n",
      "    Semana prediciendo la semana 1 ARIMA(5, 1, 5) ---> Error: 10.438352084019696\n",
      "    Semana prediciendo la semana 2 ARIMA(5, 1, 5) ---> Error: 1.6019493634631201\n",
      "    Semana prediciendo la semana 3 ARIMA(5, 1, 5) ---> Error: 1.8100151730386413\n",
      " \n",
      "Entrenando el Modelo para GUANAJUATO\n",
      "    Semana prediciendo la semana 0 ARIMA(3, 1, 0) ---> Error: 31.902264646097514\n",
      "    Semana prediciendo la semana 1 ARIMA(3, 1, 0) ---> Error: 21.042546686267404\n",
      "    Semana prediciendo la semana 2 ARIMA(3, 1, 0) ---> Error: 62.31531006145777\n",
      "    Semana prediciendo la semana 3 ARIMA(3, 1, 0) ---> Error: 21.15359240431843\n",
      " \n",
      "Entrenando el Modelo para GUERRERO\n",
      "    Semana prediciendo la semana 0 ARIMA(2, 1, 5) ---> Error: 5.057252600668499\n",
      "    Semana prediciendo la semana 1 ARIMA(2, 1, 5) ---> Error: 5.901733576554295\n",
      "    Semana prediciendo la semana 2 ARIMA(2, 1, 5) ---> Error: 6.0786222910200145\n",
      "    Semana prediciendo la semana 3 ARIMA(2, 1, 5) ---> Error: 13.163810234082733\n",
      " \n",
      "Entrenando el Modelo para HIDALGO\n",
      "    Semana prediciendo la semana 0 ARIMA(1, 1, 1) ---> Error: 4.020498671713436\n",
      "    Semana prediciendo la semana 1 ARIMA(1, 1, 1) ---> Error: 2.959102974244337\n",
      "    Semana prediciendo la semana 2 ARIMA(1, 1, 1) ---> Error: 2.9368233399930634\n",
      "    Semana prediciendo la semana 3 ARIMA(1, 1, 1) ---> Error: 5.890422445118773\n",
      " \n",
      "Entrenando el Modelo para JALISCO\n",
      "    Semana prediciendo la semana 0 ARIMA(3, 1, 0) ---> Error: 8.602746762678416\n",
      "    Semana prediciendo la semana 1 ARIMA(3, 1, 0) ---> Error: 20.58785158938101\n",
      "    Semana prediciendo la semana 2 ARIMA(3, 1, 0) ---> Error: 3.5692082587534926\n",
      "    Semana prediciendo la semana 3 ARIMA(3, 1, 0) ---> Error: 4.075456734653423\n",
      " \n",
      "Entrenando el Modelo para MEXICO\n",
      "    Semana prediciendo la semana 0 ARIMA(4, 1, 3) ---> Error: 13.91491508920144\n",
      "    Semana prediciendo la semana 1 ARIMA(4, 1, 3) ---> Error: 29.5122919748009\n",
      "    Semana prediciendo la semana 2 ARIMA(4, 1, 5) ---> Error: 8.639117907621772\n",
      "    Semana prediciendo la semana 3 ARIMA(4, 1, 5) ---> Error: 20.567682398486326\n",
      " \n",
      "Entrenando el Modelo para MICHOACAN\n",
      "    Semana prediciendo la semana 0 ARIMA(3, 1, 3) ---> Error: 4.813408855255819\n",
      "    Semana prediciendo la semana 1 ARIMA(4, 1, 3) ---> Error: 1.3854859672190192\n",
      "    Semana prediciendo la semana 2 ARIMA(2, 1, 5) ---> Error: 2.51377588367069\n",
      "    Semana prediciendo la semana 3 ARIMA(2, 1, 5) ---> Error: 1.5191934660090283\n",
      " \n",
      "Entrenando el Modelo para MORELOS\n",
      "    Semana prediciendo la semana 0 ARIMA(1, 1, 1) ---> Error: 10.62281326867006\n",
      "    Semana prediciendo la semana 1 ARIMA(1, 1, 1) ---> Error: 2.0644719405048493\n",
      "    Semana prediciendo la semana 2 ARIMA(1, 1, 1) ---> Error: 5.204144336547128\n",
      "    Semana prediciendo la semana 3 ARIMA(1, 1, 1) ---> Error: 5.772220067947891\n",
      " \n",
      "Entrenando el Modelo para NAYARIT\n",
      "    Semana prediciendo la semana 0 ARIMA(4, 1, 2) ---> Error: 4.592557702044972\n",
      "    Semana prediciendo la semana 1 ARIMA(4, 1, 2) ---> Error: 1.1436104724115221\n",
      "    Semana prediciendo la semana 2 ARIMA(4, 1, 2) ---> Error: 1.293521924219623\n",
      "    Semana prediciendo la semana 3 ARIMA(4, 1, 2) ---> Error: 1.72370823660155\n",
      " \n",
      "Entrenando el Modelo para NUEVO LEON\n",
      "    Semana prediciendo la semana 0 ARIMA(3, 1, 3) ---> Error: 6.459464863777102\n",
      "    Semana prediciendo la semana 1 ARIMA(3, 1, 3) ---> Error: 4.946917333446918\n",
      "    Semana prediciendo la semana 2 ARIMA(3, 1, 3) ---> Error: 3.041254139147016\n",
      "    Semana prediciendo la semana 3 ARIMA(3, 1, 3) ---> Error: 14.003357343804094\n",
      " \n",
      "Entrenando el Modelo para OAXACA\n",
      "    Semana prediciendo la semana 0 ARIMA(1, 1, 1) ---> Error: 15.457741591183623\n",
      "    Semana prediciendo la semana 1 ARIMA(1, 1, 1) ---> Error: 3.085911479779602\n",
      "    Semana prediciendo la semana 2 ARIMA(1, 1, 1) ---> Error: 9.620888742177957\n",
      "    Semana prediciendo la semana 3 ARIMA(1, 1, 1) ---> Error: 15.411341752305646\n",
      " \n",
      "Entrenando el Modelo para PUEBLA\n",
      "    Semana prediciendo la semana 0 ARIMA(1, 1, 1) ---> Error: 11.314460125317634\n",
      "    Semana prediciendo la semana 1 ARIMA(1, 1, 1) ---> Error: 21.207911795707066\n",
      "    Semana prediciendo la semana 2 ARIMA(1, 1, 1) ---> Error: 15.220313715777657\n",
      "    Semana prediciendo la semana 3 ARIMA(1, 1, 1) ---> Error: 4.332498501064252\n",
      " \n",
      "Entrenando el Modelo para QUERETARO\n",
      "    Semana prediciendo la semana 0 ARIMA(3, 1, 0) ---> Error: 9.00802674446941\n",
      "    Semana prediciendo la semana 1 ARIMA(3, 1, 0) ---> Error: 7.182025294805223\n",
      "    Semana prediciendo la semana 2 ARIMA(3, 1, 0) ---> Error: 5.503792292716467\n",
      "    Semana prediciendo la semana 3 ARIMA(3, 1, 0) ---> Error: 17.44087087030049\n",
      " \n",
      "Entrenando el Modelo para QUINTANA ROO\n",
      "    Semana prediciendo la semana 0 ARIMA(3, 1, 4) ---> Error: 3.541718122594744\n",
      "    Semana prediciendo la semana 1 ARIMA(3, 1, 4) ---> Error: 4.23584132454139\n"
     ]
    },
    {
     "name": "stdout",
     "output_type": "stream",
     "text": [
      "    Semana prediciendo la semana 2 ARIMA(3, 1, 3) ---> Error: 4.1943812239943705\n",
      "    Semana prediciendo la semana 3 ARIMA(3, 1, 3) ---> Error: 2.18357120445518\n",
      " \n",
      "Entrenando el Modelo para SAN LUIS POTOSI\n",
      "    Semana prediciendo la semana 0 ARIMA(3, 1, 4) ---> Error: 26.459549274607266\n",
      "    Semana prediciendo la semana 1 ARIMA(4, 1, 2) ---> Error: 13.185924198454105\n",
      "    Semana prediciendo la semana 2 ARIMA(4, 1, 2) ---> Error: 3.1450108760856863\n",
      "    Semana prediciendo la semana 3 ARIMA(4, 1, 2) ---> Error: 8.710653790544054\n",
      " \n",
      "Entrenando el Modelo para SINALOA\n",
      "    Semana prediciendo la semana 0 ARIMA(3, 1, 3) ---> Error: 11.120579151765364\n",
      "    Semana prediciendo la semana 1 ARIMA(3, 1, 4) ---> Error: 12.059505155170907\n",
      "    Semana prediciendo la semana 2 ARIMA(3, 1, 4) ---> Error: 3.3576322128646474\n",
      "    Semana prediciendo la semana 3 ARIMA(3, 1, 4) ---> Error: 3.7380772525501214\n",
      " \n",
      "Entrenando el Modelo para SONORA\n",
      "    Semana prediciendo la semana 0 ARIMA(5, 1, 4) ---> Error: 4.563332944269416\n",
      "    Semana prediciendo la semana 1 ARIMA(4, 1, 5) ---> Error: 15.694229247898805\n",
      "    Semana prediciendo la semana 2 ARIMA(4, 1, 5) ---> Error: 9.029241474168948\n",
      "    Semana prediciendo la semana 3 ARIMA(4, 1, 5) ---> Error: 5.134513219667582\n",
      " \n",
      "Entrenando el Modelo para TABASCO\n",
      "    Semana prediciendo la semana 0 ARIMA(1, 1, 2) ---> Error: 24.63685522363787\n",
      "    Semana prediciendo la semana 1 ARIMA(1, 1, 2) ---> Error: 7.217840919864826\n",
      "    Semana prediciendo la semana 2 ARIMA(1, 1, 2) ---> Error: 17.806227521262915\n",
      "    Semana prediciendo la semana 3 ARIMA(1, 1, 2) ---> Error: 11.24504998199413\n",
      " \n",
      "Entrenando el Modelo para TAMAULIPAS\n",
      "    Semana prediciendo la semana 0 ARIMA(3, 1, 4) ---> Error: 6.309592469102185\n",
      "    Semana prediciendo la semana 1 ARIMA(3, 1, 4) ---> Error: 4.3934685644550955\n",
      "    Semana prediciendo la semana 2 ARIMA(3, 1, 4) ---> Error: 5.1693358360081865\n",
      "    Semana prediciendo la semana 3 ARIMA(3, 1, 4) ---> Error: 7.371120572387511\n",
      " \n",
      "Entrenando el Modelo para TLAXCALA\n",
      "    Semana prediciendo la semana 0 ARIMA(3, 1, 5) ---> Error: 1.8301278244145922\n",
      "    Semana prediciendo la semana 1 ARIMA(3, 1, 5) ---> Error: 11.057372146807781\n",
      "    Semana prediciendo la semana 2 ARIMA(3, 1, 5) ---> Error: 1.4006578940397019\n",
      "    Semana prediciendo la semana 3 ARIMA(3, 1, 5) ---> Error: 2.1993147854839408\n",
      " \n",
      "Entrenando el Modelo para VERACRUZ\n",
      "    Semana prediciendo la semana 0 ARIMA(3, 1, 3) ---> Error: 3.1896177780068546\n",
      "    Semana prediciendo la semana 1 ARIMA(3, 1, 3) ---> Error: 9.445826398852386\n",
      "    Semana prediciendo la semana 2 ARIMA(3, 1, 3) ---> Error: 4.663668553786218\n",
      "    Semana prediciendo la semana 3 ARIMA(3, 1, 3) ---> Error: 5.789727067198912\n",
      " \n",
      "Entrenando el Modelo para YUCATAN\n",
      "    Semana prediciendo la semana 0 ARIMA(5, 1, 4) ---> Error: 17.536740614108083\n",
      "    Semana prediciendo la semana 1 ARIMA(4, 1, 2) ---> Error: 9.627547671692783\n",
      "    Semana prediciendo la semana 2 ARIMA(4, 1, 2) ---> Error: 16.71890368541868\n",
      "    Semana prediciendo la semana 3 ARIMA(5, 1, 4) ---> Error: 4.79654599934744\n",
      " \n",
      "Entrenando el Modelo para ZACATECAS\n",
      "    Semana prediciendo la semana 0 ARIMA(5, 1, 4) ---> Error: 3.115377988030821\n",
      "    Semana prediciendo la semana 1 ARIMA(5, 1, 4) ---> Error: 4.281748123116056\n",
      "    Semana prediciendo la semana 2 ARIMA(1, 1, 1) ---> Error: 3.0404295020822802\n",
      "    Semana prediciendo la semana 3 ARIMA(1, 1, 1) ---> Error: 8.622517007944138\n"
     ]
    }
   ],
   "source": [
    "start = 28\n",
    "periods = 7\n",
    "pred_arima = pd.DataFrame()\n",
    "error_arima = []\n",
    "print(\"Forecasting with ARIMA models using auto_arima\")\n",
    "print(\"----------------------------------------------\")\n",
    "for i in range(32):\n",
    "    print(\" \")\n",
    "    print(f\"Entrenando el Modelo para {names[i]}\")\n",
    "    casos_estado = datos_total.iloc[[i]]\n",
    "    casos_estado = pd.melt(casos_estado, var_name = \"Fecha\", value_name = \"Casos\")\n",
    "    casos_estado[\"Fecha\"] = pd.to_datetime(casos_estado[\"Fecha\"])\n",
    "    casos_estado = casos_estado.set_index(\"Fecha\")\n",
    "    casos_estado = casos_estado[\"Casos\"]\n",
    "    estado_sma = casos_estado.rolling(window = 7).mean().dropna()[:-1]\n",
    "    \n",
    "    predictions = []\n",
    "    #model_arima = auto_arima(casos_estado[:-8][:-28])\n",
    "    for j in range(int(start/periods)):\n",
    "        model_arima = auto_arima(estado_sma[:-8][:-start+j*periods], seasonal = False)\n",
    "        orden = model_arima.get_params()['order']\n",
    "        print(f\"    Semana prediciendo la semana {j} ARIMA{orden} ---> \", end = \"\", flush= True)\n",
    "        \n",
    "        pred = model_arima.predict(n_periods = periods)\n",
    "        \n",
    "        if -start+(j+1)*periods != 0: \n",
    "            rmse = np.sqrt(mean_squared_error(pred, estado_sma[:-8][-start+j*periods:-start+(j+1)*periods]))\n",
    "        else:\n",
    "            rmse = np.sqrt(mean_squared_error(pred, estado_sma[:-8][-start+j*periods:]))\n",
    "        \n",
    "        predictions.append(pred)\n",
    "        print(f\"Error: {rmse}\")\n",
    "    \n",
    "    # Convertimos la lista de listas de predicciones a numpy    \n",
    "    predictions = np.array(predictions)\n",
    "    # Aplanamos el arreglo\n",
    "    predictions = predictions.reshape(predictions.shape[0]*predictions.shape[1])\n",
    "    # Convertimos a serie de tiempo\n",
    "    predic_1 = pd.Series(predictions, index = estado_sma[:-8][-28:].index)\n",
    "    # Se guardan las predicciones en un Data Frame\n",
    "    pred_arima[names[i]] = predic_1\n",
    "    # Se calcula el error\n",
    "    error = np.sqrt(mean_squared_error(predic_1,estado_sma[:-8][-28:]))\n",
    "    error_arima.append(error)"
   ]
  },
  {
   "cell_type": "code",
   "execution_count": 117,
   "id": "27380e82",
   "metadata": {},
   "outputs": [],
   "source": [
    "error_rmse = np.zeros(2)\n",
    "for i in range(2):\n",
    "    casos_estado = datos_total.iloc[[i]]\n",
    "    casos_estado = pd.melt(casos_estado, var_name = \"Fecha\", value_name = \"Casos\")\n",
    "    casos_estado[\"Fecha\"] = pd.to_datetime(casos_estado[\"Fecha\"])\n",
    "    casos_estado = casos_estado.set_index(\"Fecha\")\n",
    "    casos_estado = casos_estado[\"Casos\"]\n",
    "    estado_sma = casos_estado.rolling(window = 7).mean().dropna()[:-1]\n",
    "    error_rmse[i] = np.sqrt(mean_squared_error(pred_arima.iloc[:,i],estado_sma[:-8][-28:]))"
   ]
  },
  {
   "cell_type": "code",
   "execution_count": 131,
   "id": "84b5fc1c",
   "metadata": {},
   "outputs": [
    {
     "data": {
      "text/plain": [
       "10.928444990528082"
      ]
     },
     "execution_count": 131,
     "metadata": {},
     "output_type": "execute_result"
    }
   ],
   "source": [
    "np.mean(error_arima)"
   ]
  },
  {
   "cell_type": "code",
   "execution_count": 129,
   "id": "1e61f06e",
   "metadata": {},
   "outputs": [
    {
     "data": {
      "text/plain": [
       "[<matplotlib.lines.Line2D at 0x24bf52db880>]"
      ]
     },
     "execution_count": 129,
     "metadata": {},
     "output_type": "execute_result"
    },
    {
     "data": {
      "image/png": "[encoded data removed]",
      "text/plain": [
       "<Figure size 432x288 with 1 Axes>"
      ]
     },
     "metadata": {
      "needs_background": "light"
     },
     "output_type": "display_data"
    }
   ],
   "source": [
    "plt.plot(np.arange(0,32),error_arima)\n",
    "plt.plot(np.arange(0,32),error_rmse)"
   ]
  },
  {
   "cell_type": "code",
   "execution_count": 121,
   "id": "44cfd886",
   "metadata": {},
   "outputs": [
    {
     "data": {
      "text/plain": [
       "<AxesSubplot:xlabel='Fecha'>"
      ]
     },
     "execution_count": 121,
     "metadata": {},
     "output_type": "execute_result"
    },
    {
     "data": {
      "image/png": "[encoded data removed]",
      "text/plain": [
       "<Figure size 432x288 with 1 Axes>"
      ]
     },
     "metadata": {
      "needs_background": "light"
     },
     "output_type": "display_data"
    }
   ],
   "source": [
    "pred_arima[\"BAJA CALIFORNIA\"].plot()\n",
    "estado_sma[-100:].plot()"
   ]
  },
  {
   "cell_type": "markdown",
   "id": "fbe7705c",
   "metadata": {},
   "source": [
    "# Data embeding"
   ]
  },
  {
   "cell_type": "code",
   "execution_count": 88,
   "id": "e06880d6",
   "metadata": {},
   "outputs": [],
   "source": [
    "from mpl_toolkits.mplot3d  import Axes3D"
   ]
  },
  {
   "cell_type": "code",
   "execution_count": 95,
   "id": "93c12e87",
   "metadata": {},
   "outputs": [],
   "source": [
    "embeding = []\n",
    "x,y,z = list(),list(),list()\n",
    "for i in range(0,len(casos_nacional),3):\n",
    "    x.append(casos_nacional[i])    \n",
    "    y.append(casos_nacional[i+1])\n",
    "    z.append(casos_nacional[i+2])"
   ]
  },
  {
   "cell_type": "code",
   "execution_count": 100,
   "id": "0406c84c",
   "metadata": {},
   "outputs": [
    {
     "data": {
      "image/png": "[encoded data removed]",
      "text/plain": [
       "<Figure size 432x288 with 1 Axes>"
      ]
     },
     "metadata": {
      "needs_background": "light"
     },
     "output_type": "display_data"
    }
   ],
   "source": [
    "ax = plt.axes(projection='3d')\n",
    "ax.scatter3D(x, y, z);"
   ]
  },
  {
   "cell_type": "code",
   "execution_count": 12,
   "id": "ad450fc3",
   "metadata": {},
   "outputs": [],
   "source": [
    "from tsmoothie.smoother import *\n",
    "from tsmoothie.bootstrap import BootstrappingWrapper"
   ]
  },
  {
   "cell_type": "code",
   "execution_count": 22,
   "id": "ad052996",
   "metadata": {},
   "outputs": [],
   "source": [
    "train = casos_sma[:-28]"
   ]
  },
  {
   "cell_type": "code",
   "execution_count": 23,
   "id": "df203871",
   "metadata": {},
   "outputs": [
    {
     "data": {
      "text/plain": [
       "<tsmoothie.smoother.SpectralSmoother>"
      ]
     },
     "execution_count": 23,
     "metadata": {},
     "output_type": "execute_result"
    }
   ],
   "source": [
    "smoother = SpectralSmoother(smooth_fraction=0.18, pad_len=12)\n",
    "smoother.smooth(train.T)"
   ]
  },
  {
   "cell_type": "code",
   "execution_count": 24,
   "id": "2d78c01a",
   "metadata": {},
   "outputs": [],
   "source": [
    "bts = BootstrappingWrapper(SpectralSmoother(smooth_fraction=0.18, pad_len=12), \n",
    "                           bootstrap_type='mbb', block_length=24)\n",
    "bts_samples = bts.sample(train, n_samples=100)"
   ]
  },
  {
   "cell_type": "code",
   "execution_count": 25,
   "id": "de13e4a6",
   "metadata": {},
   "outputs": [
    {
     "data": {
      "text/plain": [
       "<matplotlib.collections.PolyCollection at 0x24b2c38f130>"
      ]
     },
     "execution_count": 25,
     "metadata": {},
     "output_type": "execute_result"
    },
    {
     "data": {
      "image/png": "[encoded data removed]",
      "text/plain": [
       "<Figure size 432x288 with 1 Axes>"
      ]
     },
     "metadata": {
      "needs_background": "light"
     },
     "output_type": "display_data"
    }
   ],
   "source": [
    "pd.Series(smoother.smooth_data[0], index=train.index).plot(c='red')\n",
    "plt.scatter(train.index, smoother.data[0], c='black', s=4)\n",
    "plt.fill_between(train.index, bts_samples.min(0), bts_samples.max(0), alpha=0.3, color='orange')"
   ]
  },
  {
   "cell_type": "code",
   "execution_count": null,
   "id": "d8363a52",
   "metadata": {},
   "outputs": [],
   "source": []
  }
 ],
 "metadata": {
  "kernelspec": {
   "display_name": "Python 3",
   "language": "python",
   "name": "python3"
  },
  "language_info": {
   "codemirror_mode": {
    "name": "ipython",
    "version": 3
   },
   "file_extension": ".py",
   "mimetype": "text/x-python",
   "name": "python",
   "nbconvert_exporter": "python",
   "pygments_lexer": "ipython3",
   "version": "3.8.8"
  }
 },
 "nbformat": 4,
 "nbformat_minor": 5
}
